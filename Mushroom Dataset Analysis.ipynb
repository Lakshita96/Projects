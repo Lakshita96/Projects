{
 "cells": [
  {
   "cell_type": "markdown",
   "metadata": {},
   "source": [
    "### Problem Statement\n",
    "This data set includes descriptions of hypothetical samples corresponding to 23 species of gilled mushrooms in the Agaricus and Lepiota Family (pp. 500-525). Each species is identified as definitely edible, definitely poisonous, or of unknown edibility and not recommended. This latter class was combined with the poisonous one. Making a classification model predicting if the mushroom belongs to 'edible' or 'poisonous' class."
   ]
  },
  {
   "cell_type": "markdown",
   "metadata": {},
   "source": [
    "### Importing Necessary Libraries"
   ]
  },
  {
   "cell_type": "code",
   "execution_count": 1,
   "metadata": {},
   "outputs": [],
   "source": [
    "import pandas as pd\n",
    "import numpy as np\n",
    "import warnings\n",
    "warnings.filterwarnings('ignore')\n",
    "\n",
    "#Importing Visualising Libraries\n",
    "import matplotlib.pyplot as plt\n",
    "%matplotlib inline\n",
    "import seaborn as sns\n",
    "sns.set(color_codes = True)\n",
    "from IPython.display import Image\n",
    "import scikitplot as skplt\n",
    "\n",
    "#Importing DataCleaning Libraries\n",
    "from sklearn.preprocessing import LabelEncoder, OneHotEncoder\n",
    "from sklearn.model_selection import train_test_split\n",
    "\n",
    "#Importing Classification Models \n",
    "from sklearn.linear_model import LogisticRegression\n",
    "from sklearn.preprocessing import StandardScaler\n",
    "from sklearn.decomposition import PCA\n",
    "from sklearn.svm import SVC\n",
    "from sklearn.tree import DecisionTreeClassifier\n",
    "from sklearn.ensemble import RandomForestClassifier\n",
    "from sklearn.model_selection import cross_val_score\n",
    "\n",
    "#Importing Classification Model Evaluation Metrics \n",
    "from sklearn.metrics import accuracy_score\n",
    "from sklearn.metrics import confusion_matrix, classification_report\n",
    "\n",
    "#Importing Hyperparameter Tuning model\n",
    "from sklearn.model_selection import RandomizedSearchCV\n",
    "\n",
    "#Importing Serialization libraries\n",
    "import joblib"
   ]
  },
  {
   "cell_type": "code",
   "execution_count": 2,
   "metadata": {},
   "outputs": [
    {
     "data": {
      "text/html": [
       "<div>\n",
       "<style scoped>\n",
       "    .dataframe tbody tr th:only-of-type {\n",
       "        vertical-align: middle;\n",
       "    }\n",
       "\n",
       "    .dataframe tbody tr th {\n",
       "        vertical-align: top;\n",
       "    }\n",
       "\n",
       "    .dataframe thead th {\n",
       "        text-align: right;\n",
       "    }\n",
       "</style>\n",
       "<table border=\"1\" class=\"dataframe\">\n",
       "  <thead>\n",
       "    <tr style=\"text-align: right;\">\n",
       "      <th></th>\n",
       "      <th>class</th>\n",
       "      <th>cap-shape</th>\n",
       "      <th>cap-surface</th>\n",
       "      <th>cap-color</th>\n",
       "      <th>bruises</th>\n",
       "      <th>odor</th>\n",
       "      <th>gill-attachment</th>\n",
       "      <th>gill-spacing</th>\n",
       "      <th>gill-size</th>\n",
       "      <th>gill-color</th>\n",
       "      <th>...</th>\n",
       "      <th>stalk-surface-below-ring</th>\n",
       "      <th>stalk-color-above-ring</th>\n",
       "      <th>stalk-color-below-ring</th>\n",
       "      <th>veil-type</th>\n",
       "      <th>veil-color</th>\n",
       "      <th>ring-number</th>\n",
       "      <th>ring-type</th>\n",
       "      <th>spore-print-color</th>\n",
       "      <th>population</th>\n",
       "      <th>habitat</th>\n",
       "    </tr>\n",
       "  </thead>\n",
       "  <tbody>\n",
       "    <tr>\n",
       "      <th>0</th>\n",
       "      <td>p</td>\n",
       "      <td>x</td>\n",
       "      <td>s</td>\n",
       "      <td>n</td>\n",
       "      <td>t</td>\n",
       "      <td>p</td>\n",
       "      <td>f</td>\n",
       "      <td>c</td>\n",
       "      <td>n</td>\n",
       "      <td>k</td>\n",
       "      <td>...</td>\n",
       "      <td>s</td>\n",
       "      <td>w</td>\n",
       "      <td>w</td>\n",
       "      <td>p</td>\n",
       "      <td>w</td>\n",
       "      <td>o</td>\n",
       "      <td>p</td>\n",
       "      <td>k</td>\n",
       "      <td>s</td>\n",
       "      <td>u</td>\n",
       "    </tr>\n",
       "    <tr>\n",
       "      <th>1</th>\n",
       "      <td>e</td>\n",
       "      <td>x</td>\n",
       "      <td>s</td>\n",
       "      <td>y</td>\n",
       "      <td>t</td>\n",
       "      <td>a</td>\n",
       "      <td>f</td>\n",
       "      <td>c</td>\n",
       "      <td>b</td>\n",
       "      <td>k</td>\n",
       "      <td>...</td>\n",
       "      <td>s</td>\n",
       "      <td>w</td>\n",
       "      <td>w</td>\n",
       "      <td>p</td>\n",
       "      <td>w</td>\n",
       "      <td>o</td>\n",
       "      <td>p</td>\n",
       "      <td>n</td>\n",
       "      <td>n</td>\n",
       "      <td>g</td>\n",
       "    </tr>\n",
       "    <tr>\n",
       "      <th>2</th>\n",
       "      <td>e</td>\n",
       "      <td>b</td>\n",
       "      <td>s</td>\n",
       "      <td>w</td>\n",
       "      <td>t</td>\n",
       "      <td>l</td>\n",
       "      <td>f</td>\n",
       "      <td>c</td>\n",
       "      <td>b</td>\n",
       "      <td>n</td>\n",
       "      <td>...</td>\n",
       "      <td>s</td>\n",
       "      <td>w</td>\n",
       "      <td>w</td>\n",
       "      <td>p</td>\n",
       "      <td>w</td>\n",
       "      <td>o</td>\n",
       "      <td>p</td>\n",
       "      <td>n</td>\n",
       "      <td>n</td>\n",
       "      <td>m</td>\n",
       "    </tr>\n",
       "    <tr>\n",
       "      <th>3</th>\n",
       "      <td>p</td>\n",
       "      <td>x</td>\n",
       "      <td>y</td>\n",
       "      <td>w</td>\n",
       "      <td>t</td>\n",
       "      <td>p</td>\n",
       "      <td>f</td>\n",
       "      <td>c</td>\n",
       "      <td>n</td>\n",
       "      <td>n</td>\n",
       "      <td>...</td>\n",
       "      <td>s</td>\n",
       "      <td>w</td>\n",
       "      <td>w</td>\n",
       "      <td>p</td>\n",
       "      <td>w</td>\n",
       "      <td>o</td>\n",
       "      <td>p</td>\n",
       "      <td>k</td>\n",
       "      <td>s</td>\n",
       "      <td>u</td>\n",
       "    </tr>\n",
       "    <tr>\n",
       "      <th>4</th>\n",
       "      <td>e</td>\n",
       "      <td>x</td>\n",
       "      <td>s</td>\n",
       "      <td>g</td>\n",
       "      <td>f</td>\n",
       "      <td>n</td>\n",
       "      <td>f</td>\n",
       "      <td>w</td>\n",
       "      <td>b</td>\n",
       "      <td>k</td>\n",
       "      <td>...</td>\n",
       "      <td>s</td>\n",
       "      <td>w</td>\n",
       "      <td>w</td>\n",
       "      <td>p</td>\n",
       "      <td>w</td>\n",
       "      <td>o</td>\n",
       "      <td>e</td>\n",
       "      <td>n</td>\n",
       "      <td>a</td>\n",
       "      <td>g</td>\n",
       "    </tr>\n",
       "  </tbody>\n",
       "</table>\n",
       "<p>5 rows × 23 columns</p>\n",
       "</div>"
      ],
      "text/plain": [
       "  class cap-shape cap-surface cap-color bruises odor gill-attachment  \\\n",
       "0     p         x           s         n       t    p               f   \n",
       "1     e         x           s         y       t    a               f   \n",
       "2     e         b           s         w       t    l               f   \n",
       "3     p         x           y         w       t    p               f   \n",
       "4     e         x           s         g       f    n               f   \n",
       "\n",
       "  gill-spacing gill-size gill-color  ... stalk-surface-below-ring  \\\n",
       "0            c         n          k  ...                        s   \n",
       "1            c         b          k  ...                        s   \n",
       "2            c         b          n  ...                        s   \n",
       "3            c         n          n  ...                        s   \n",
       "4            w         b          k  ...                        s   \n",
       "\n",
       "  stalk-color-above-ring stalk-color-below-ring veil-type veil-color  \\\n",
       "0                      w                      w         p          w   \n",
       "1                      w                      w         p          w   \n",
       "2                      w                      w         p          w   \n",
       "3                      w                      w         p          w   \n",
       "4                      w                      w         p          w   \n",
       "\n",
       "  ring-number ring-type spore-print-color population habitat  \n",
       "0           o         p                 k          s       u  \n",
       "1           o         p                 n          n       g  \n",
       "2           o         p                 n          n       m  \n",
       "3           o         p                 k          s       u  \n",
       "4           o         e                 n          a       g  \n",
       "\n",
       "[5 rows x 23 columns]"
      ]
     },
     "execution_count": 2,
     "metadata": {},
     "output_type": "execute_result"
    }
   ],
   "source": [
    "#Loading Mushrooms Dataset\n",
    "mushrooms = pd.read_csv('mushrooms.csv')\n",
    "mushrooms.head()"
   ]
  },
  {
   "cell_type": "markdown",
   "metadata": {},
   "source": [
    "## About Dataset\n",
    "It's a classification dataset which consists of all Categorical features.\n",
    "\n",
    "#### dependent variable : \n",
    "- __Class__ : poisonous(p) and edible(e)\n",
    "\n",
    "##### Independent Variables : \n",
    "- __cap shape__ : bell(b), Conical(c), Convex(x), flat(f), knobbed(k), sunken(s)\n",
    "- __cap surface__: fibrous(f),grooves(g),scaly(y),smooth(s)\n",
    "- __cap color__: brown(n),buff(b),cinnamon(c),gray(g),green(r), pink(p),purple(u),red(e),white(w),yellow(y)\n",
    "- __bruises__: yes(t), no(f)\n",
    "- __odor__ : almond(a),anise(l),creosote(c),fishy(y),foul(f), musty(m),none(n),pungent(p),spicy(s)\n",
    "- __gill attachment__: attached(a),descending(d),free(f),notched(n)\n",
    "- __gill-spacing__: close(c),crowded(w),distant(d)\n",
    "- __gill-size__: broad(b),narrow(n)\n",
    "- __gill-color__: black(k),brown(n),buff(b),chocolate(h),gray(g), green(r),orange(o),pink(p),purple(u),red(e), white(w),yellow(y)\n",
    "- __stalk-shape__: enlarging(e),tapering(t)\n",
    "- __stalk-root__: bulbous(b),club(c),cup(u),equal(e), rhizomorphs(z),rooted(r),missing=?\n",
    "- __stalk-surface-above-ring__: fibrous(f),scaly(y),silky(k),smooth(s)\n",
    "- __stalk-surface-below-ring__: fibrous(f),scaly(y),silky(k),smooth(s)\n",
    "- __stalk-color-above-ring__: brown(n),buff(b),cinnamon(c),gray(g),orange(o), pink(p),red(e),white(w),yellow(y)\n",
    "- __stalk-color-below-ring__: brown(n),buff(b),cinnamon(c),gray(g),orange(o), pink(p),red(e),white(w),yellow(y)\n",
    "- __veil-type__: partial(p),universal(u)\n",
    "- __veil-color__: brown(n),orange(o),white(w),yellow(y)\n",
    "- __ring-number__: none(n),one(o),two(t)\n",
    "- __ring-type__: cobwebby(c),evanescent(e),flaring(f),large(l), none(n),pendant(p),sheathing(s),zone(z)\n",
    "- __spore-print-color__: black(k),brown(n),buff(b),chocolate(h),green(r), orange(o),purple(u),white(w),yellow(y)\n",
    "- __population__: abundant(a),clustered(c),numerous(n), scattered(s),several(v),solitary(y)\n",
    "- __habitat__: grasses(g),leaves(l),meadows(m),paths(p), urban(u),waste(w),woods(d)"
   ]
  },
  {
   "cell_type": "code",
   "execution_count": 3,
   "metadata": {},
   "outputs": [
    {
     "data": {
      "text/plain": [
       "(8124, 23)"
      ]
     },
     "execution_count": 3,
     "metadata": {},
     "output_type": "execute_result"
    }
   ],
   "source": [
    "#Checking dataset shape\n",
    "mushrooms.shape"
   ]
  },
  {
   "cell_type": "markdown",
   "metadata": {},
   "source": [
    "This dataset consists of 23 columns and 8124 rows"
   ]
  },
  {
   "cell_type": "code",
   "execution_count": 4,
   "metadata": {},
   "outputs": [
    {
     "data": {
      "text/html": [
       "<div>\n",
       "<style scoped>\n",
       "    .dataframe tbody tr th:only-of-type {\n",
       "        vertical-align: middle;\n",
       "    }\n",
       "\n",
       "    .dataframe tbody tr th {\n",
       "        vertical-align: top;\n",
       "    }\n",
       "\n",
       "    .dataframe thead th {\n",
       "        text-align: right;\n",
       "    }\n",
       "</style>\n",
       "<table border=\"1\" class=\"dataframe\">\n",
       "  <thead>\n",
       "    <tr style=\"text-align: right;\">\n",
       "      <th></th>\n",
       "      <th>class</th>\n",
       "      <th>cap-shape</th>\n",
       "      <th>cap-surface</th>\n",
       "      <th>cap-color</th>\n",
       "      <th>bruises</th>\n",
       "      <th>odor</th>\n",
       "      <th>gill-attachment</th>\n",
       "      <th>gill-spacing</th>\n",
       "      <th>gill-size</th>\n",
       "      <th>gill-color</th>\n",
       "      <th>...</th>\n",
       "      <th>stalk-surface-below-ring</th>\n",
       "      <th>stalk-color-above-ring</th>\n",
       "      <th>stalk-color-below-ring</th>\n",
       "      <th>veil-type</th>\n",
       "      <th>veil-color</th>\n",
       "      <th>ring-number</th>\n",
       "      <th>ring-type</th>\n",
       "      <th>spore-print-color</th>\n",
       "      <th>population</th>\n",
       "      <th>habitat</th>\n",
       "    </tr>\n",
       "  </thead>\n",
       "  <tbody>\n",
       "    <tr>\n",
       "      <th>count</th>\n",
       "      <td>8124</td>\n",
       "      <td>8124</td>\n",
       "      <td>8124</td>\n",
       "      <td>8124</td>\n",
       "      <td>8124</td>\n",
       "      <td>8124</td>\n",
       "      <td>8124</td>\n",
       "      <td>8124</td>\n",
       "      <td>8124</td>\n",
       "      <td>8124</td>\n",
       "      <td>...</td>\n",
       "      <td>8124</td>\n",
       "      <td>8124</td>\n",
       "      <td>8124</td>\n",
       "      <td>8124</td>\n",
       "      <td>8124</td>\n",
       "      <td>8124</td>\n",
       "      <td>8124</td>\n",
       "      <td>8124</td>\n",
       "      <td>8124</td>\n",
       "      <td>8124</td>\n",
       "    </tr>\n",
       "    <tr>\n",
       "      <th>unique</th>\n",
       "      <td>2</td>\n",
       "      <td>6</td>\n",
       "      <td>4</td>\n",
       "      <td>10</td>\n",
       "      <td>2</td>\n",
       "      <td>9</td>\n",
       "      <td>2</td>\n",
       "      <td>2</td>\n",
       "      <td>2</td>\n",
       "      <td>12</td>\n",
       "      <td>...</td>\n",
       "      <td>4</td>\n",
       "      <td>9</td>\n",
       "      <td>9</td>\n",
       "      <td>1</td>\n",
       "      <td>4</td>\n",
       "      <td>3</td>\n",
       "      <td>5</td>\n",
       "      <td>9</td>\n",
       "      <td>6</td>\n",
       "      <td>7</td>\n",
       "    </tr>\n",
       "    <tr>\n",
       "      <th>top</th>\n",
       "      <td>e</td>\n",
       "      <td>x</td>\n",
       "      <td>y</td>\n",
       "      <td>n</td>\n",
       "      <td>f</td>\n",
       "      <td>n</td>\n",
       "      <td>f</td>\n",
       "      <td>c</td>\n",
       "      <td>b</td>\n",
       "      <td>b</td>\n",
       "      <td>...</td>\n",
       "      <td>s</td>\n",
       "      <td>w</td>\n",
       "      <td>w</td>\n",
       "      <td>p</td>\n",
       "      <td>w</td>\n",
       "      <td>o</td>\n",
       "      <td>p</td>\n",
       "      <td>w</td>\n",
       "      <td>v</td>\n",
       "      <td>d</td>\n",
       "    </tr>\n",
       "    <tr>\n",
       "      <th>freq</th>\n",
       "      <td>4208</td>\n",
       "      <td>3656</td>\n",
       "      <td>3244</td>\n",
       "      <td>2284</td>\n",
       "      <td>4748</td>\n",
       "      <td>3528</td>\n",
       "      <td>7914</td>\n",
       "      <td>6812</td>\n",
       "      <td>5612</td>\n",
       "      <td>1728</td>\n",
       "      <td>...</td>\n",
       "      <td>4936</td>\n",
       "      <td>4464</td>\n",
       "      <td>4384</td>\n",
       "      <td>8124</td>\n",
       "      <td>7924</td>\n",
       "      <td>7488</td>\n",
       "      <td>3968</td>\n",
       "      <td>2388</td>\n",
       "      <td>4040</td>\n",
       "      <td>3148</td>\n",
       "    </tr>\n",
       "  </tbody>\n",
       "</table>\n",
       "<p>4 rows × 23 columns</p>\n",
       "</div>"
      ],
      "text/plain": [
       "       class cap-shape cap-surface cap-color bruises  odor gill-attachment  \\\n",
       "count   8124      8124        8124      8124    8124  8124            8124   \n",
       "unique     2         6           4        10       2     9               2   \n",
       "top        e         x           y         n       f     n               f   \n",
       "freq    4208      3656        3244      2284    4748  3528            7914   \n",
       "\n",
       "       gill-spacing gill-size gill-color  ... stalk-surface-below-ring  \\\n",
       "count          8124      8124       8124  ...                     8124   \n",
       "unique            2         2         12  ...                        4   \n",
       "top               c         b          b  ...                        s   \n",
       "freq           6812      5612       1728  ...                     4936   \n",
       "\n",
       "       stalk-color-above-ring stalk-color-below-ring veil-type veil-color  \\\n",
       "count                    8124                   8124      8124       8124   \n",
       "unique                      9                      9         1          4   \n",
       "top                         w                      w         p          w   \n",
       "freq                     4464                   4384      8124       7924   \n",
       "\n",
       "       ring-number ring-type spore-print-color population habitat  \n",
       "count         8124      8124              8124       8124    8124  \n",
       "unique           3         5                 9          6       7  \n",
       "top              o         p                 w          v       d  \n",
       "freq          7488      3968              2388       4040    3148  \n",
       "\n",
       "[4 rows x 23 columns]"
      ]
     },
     "execution_count": 4,
     "metadata": {},
     "output_type": "execute_result"
    }
   ],
   "source": [
    "mushrooms.describe()\n",
    "#As data consists of all categorical features there is no need to perform statistical analysis"
   ]
  },
  {
   "cell_type": "code",
   "execution_count": 5,
   "metadata": {},
   "outputs": [
    {
     "data": {
      "text/plain": [
       "<AxesSubplot:xlabel='class', ylabel='count'>"
      ]
     },
     "execution_count": 5,
     "metadata": {},
     "output_type": "execute_result"
    },
    {
     "data": {
      "image/png": "[encoded data removed]",
      "text/plain": [
       "<Figure size 432x288 with 1 Axes>"
      ]
     },
     "metadata": {},
     "output_type": "display_data"
    }
   ],
   "source": [
    "#Univariate Analysis\n",
    "#Visualizing to check class imbalance\n",
    "sns.countplot(mushrooms['class'], palette = 'husl')\n"
   ]
  },
  {
   "cell_type": "markdown",
   "metadata": {},
   "source": [
    "There is no class imbalance in the given dataset."
   ]
  },
  {
   "cell_type": "code",
   "execution_count": 6,
   "metadata": {},
   "outputs": [
    {
     "data": {
      "text/plain": [
       "class                       0\n",
       "cap-shape                   0\n",
       "cap-surface                 0\n",
       "cap-color                   0\n",
       "bruises                     0\n",
       "odor                        0\n",
       "gill-attachment             0\n",
       "gill-spacing                0\n",
       "gill-size                   0\n",
       "gill-color                  0\n",
       "stalk-shape                 0\n",
       "stalk-root                  0\n",
       "stalk-surface-above-ring    0\n",
       "stalk-surface-below-ring    0\n",
       "stalk-color-above-ring      0\n",
       "stalk-color-below-ring      0\n",
       "veil-type                   0\n",
       "veil-color                  0\n",
       "ring-number                 0\n",
       "ring-type                   0\n",
       "spore-print-color           0\n",
       "population                  0\n",
       "habitat                     0\n",
       "dtype: int64"
      ]
     },
     "execution_count": 6,
     "metadata": {},
     "output_type": "execute_result"
    }
   ],
   "source": [
    "# To check if there are any null values\n",
    "mushrooms.isnull().sum()"
   ]
  },
  {
   "cell_type": "code",
   "execution_count": 7,
   "metadata": {},
   "outputs": [
    {
     "data": {
      "text/plain": [
       "0"
      ]
     },
     "execution_count": 7,
     "metadata": {},
     "output_type": "execute_result"
    }
   ],
   "source": [
    "#Checking if there are any duplicate records\n",
    "mushrooms.duplicated().sum()"
   ]
  },
  {
   "cell_type": "code",
   "execution_count": 8,
   "metadata": {},
   "outputs": [
    {
     "name": "stdout",
     "output_type": "stream",
     "text": [
      "<class 'pandas.core.frame.DataFrame'>\n",
      "RangeIndex: 8124 entries, 0 to 8123\n",
      "Data columns (total 23 columns):\n",
      " #   Column                    Non-Null Count  Dtype \n",
      "---  ------                    --------------  ----- \n",
      " 0   class                     8124 non-null   object\n",
      " 1   cap-shape                 8124 non-null   object\n",
      " 2   cap-surface               8124 non-null   object\n",
      " 3   cap-color                 8124 non-null   object\n",
      " 4   bruises                   8124 non-null   object\n",
      " 5   odor                      8124 non-null   object\n",
      " 6   gill-attachment           8124 non-null   object\n",
      " 7   gill-spacing              8124 non-null   object\n",
      " 8   gill-size                 8124 non-null   object\n",
      " 9   gill-color                8124 non-null   object\n",
      " 10  stalk-shape               8124 non-null   object\n",
      " 11  stalk-root                8124 non-null   object\n",
      " 12  stalk-surface-above-ring  8124 non-null   object\n",
      " 13  stalk-surface-below-ring  8124 non-null   object\n",
      " 14  stalk-color-above-ring    8124 non-null   object\n",
      " 15  stalk-color-below-ring    8124 non-null   object\n",
      " 16  veil-type                 8124 non-null   object\n",
      " 17  veil-color                8124 non-null   object\n",
      " 18  ring-number               8124 non-null   object\n",
      " 19  ring-type                 8124 non-null   object\n",
      " 20  spore-print-color         8124 non-null   object\n",
      " 21  population                8124 non-null   object\n",
      " 22  habitat                   8124 non-null   object\n",
      "dtypes: object(23)\n",
      "memory usage: 1.4+ MB\n"
     ]
    }
   ],
   "source": [
    "#Cross - Checking Datatype of features and for Null values\n",
    "mushrooms.info()"
   ]
  },
  {
   "cell_type": "code",
   "execution_count": 9,
   "metadata": {},
   "outputs": [
    {
     "data": {
      "text/html": [
       "<img src=\"Screenshot (80).jpg\" width=\"400\" height=\"400\"/>"
      ],
      "text/plain": [
       "<IPython.core.display.Image object>"
      ]
     },
     "execution_count": 9,
     "metadata": {},
     "output_type": "execute_result"
    }
   ],
   "source": [
    "#Scrolling throught the Dataset I found (\"?\")datapoints in stalk-root column which is a misidentified category.  \n",
    "Image(url= \"Screenshot (80).jpg\", width=400, height=400)"
   ]
  },
  {
   "cell_type": "code",
   "execution_count": 10,
   "metadata": {},
   "outputs": [
    {
     "name": "stdout",
     "output_type": "stream",
     "text": [
      "class                          0\n",
      "cap-shape                      0\n",
      "cap-surface                    0\n",
      "cap-color                      0\n",
      "bruises                        0\n",
      "odor                           0\n",
      "gill-attachment                0\n",
      "gill-spacing                   0\n",
      "gill-size                      0\n",
      "gill-color                     0\n",
      "stalk-shape                    0\n",
      "stalk-root                  2480\n",
      "stalk-surface-above-ring       0\n",
      "stalk-surface-below-ring       0\n",
      "stalk-color-above-ring         0\n",
      "stalk-color-below-ring         0\n",
      "veil-type                      0\n",
      "veil-color                     0\n",
      "ring-number                    0\n",
      "ring-type                      0\n",
      "spore-print-color              0\n",
      "population                     0\n",
      "habitat                        0\n",
      "dtype: int64\n"
     ]
    }
   ],
   "source": [
    "#As we can see there are total 2480 misidentified datapoints in stalk root column. \n",
    "mushrooms = mushrooms.replace({'?':np.NaN})\n",
    "print(mushrooms.isna().sum())"
   ]
  },
  {
   "cell_type": "code",
   "execution_count": 11,
   "metadata": {},
   "outputs": [
    {
     "data": {
      "text/plain": [
       "class                       0\n",
       "cap-shape                   0\n",
       "cap-surface                 0\n",
       "cap-color                   0\n",
       "bruises                     0\n",
       "odor                        0\n",
       "gill-attachment             0\n",
       "gill-spacing                0\n",
       "gill-size                   0\n",
       "gill-color                  0\n",
       "stalk-shape                 0\n",
       "stalk-root                  0\n",
       "stalk-surface-above-ring    0\n",
       "stalk-surface-below-ring    0\n",
       "stalk-color-above-ring      0\n",
       "stalk-color-below-ring      0\n",
       "veil-type                   0\n",
       "veil-color                  0\n",
       "ring-number                 0\n",
       "ring-type                   0\n",
       "spore-print-color           0\n",
       "population                  0\n",
       "habitat                     0\n",
       "dtype: int64"
      ]
     },
     "execution_count": 11,
     "metadata": {},
     "output_type": "execute_result"
    }
   ],
   "source": [
    "#We are replacing the (\"?\") with 'm' category in [stalk-root] column\n",
    "# we are not dropping the datapoints as it would result in huge loss of valuable data (26% of total dataset)\n",
    "mushrooms['stalk-root']  = mushrooms['stalk-root'].replace(np.NaN,'n')\n",
    "mushrooms.isna().sum()"
   ]
  },
  {
   "cell_type": "code",
   "execution_count": 12,
   "metadata": {},
   "outputs": [
    {
     "data": {
      "text/plain": [
       "<AxesSubplot:xlabel='stalk-root', ylabel='count'>"
      ]
     },
     "execution_count": 12,
     "metadata": {},
     "output_type": "execute_result"
    },
    {
     "data": {
      "image/png": "[encoded data removed]",
      "text/plain": [
       "<Figure size 432x288 with 1 Axes>"
      ]
     },
     "metadata": {},
     "output_type": "display_data"
    }
   ],
   "source": [
    "#Univariate Analysis\n",
    "#as we can interpret 26% of datapoint in [stalk root was missing] and no consists of a new class n\n",
    "mushrooms['stalk-root'].value_counts()\n",
    "sns.countplot(mushrooms['stalk-root'])"
   ]
  },
  {
   "cell_type": "code",
   "execution_count": 13,
   "metadata": {},
   "outputs": [
    {
     "data": {
      "image/png": "[encoded data removed]",
      "text/plain": [
       "<Figure size 1440x1800 with 23 Axes>"
      ]
     },
     "metadata": {},
     "output_type": "display_data"
    }
   ],
   "source": [
    "#Multivariate Analysis\n",
    "#Visualising the distribution of classes 'p' and 'e' over various features\n",
    "plt.figure(figsize = (20,25), facecolor ='white')\n",
    "plotnumber=1\n",
    "\n",
    "for column in mushrooms:\n",
    "    if plotnumber<=23: \n",
    "        ax = plt.subplot(8,3,plotnumber)\n",
    "        sns.countplot(data = mushrooms, x = column, hue = 'class', palette = 'rocket')\n",
    "        plt.title('Ediblity over ' + column)\n",
    "    plotnumber+=1\n",
    "plt.tight_layout()"
   ]
  },
  {
   "cell_type": "markdown",
   "metadata": {},
   "source": [
    "We can further conclude that \n",
    "- mushrooms of gill color 'b', spore_print_color of 'h'& 'w', population 'v' are highly edible.\n",
    "- mushrooms of odor 'n' and habitat 'b'and spore_print_color of 'k'& 'n' are highly poisonous"
   ]
  },
  {
   "cell_type": "code",
   "execution_count": 14,
   "metadata": {},
   "outputs": [],
   "source": [
    "#Splitting data into features and label\n",
    "X = mushrooms.drop('class',axis=1)\n",
    "y = mushrooms['class']"
   ]
  },
  {
   "cell_type": "code",
   "execution_count": 15,
   "metadata": {},
   "outputs": [],
   "source": [
    "# Encoding our label using LabelEncoder p:1 , e:0\n",
    "# Encoding our features using OneHotEncoder\n",
    "label_enc = LabelEncoder()\n",
    "ohe = OneHotEncoder( sparse = False)"
   ]
  },
  {
   "cell_type": "code",
   "execution_count": 16,
   "metadata": {},
   "outputs": [
    {
     "name": "stdout",
     "output_type": "stream",
     "text": [
      "0       1\n",
      "1       0\n",
      "2       0\n",
      "3       1\n",
      "4       0\n",
      "       ..\n",
      "8119    0\n",
      "8120    0\n",
      "8121    0\n",
      "8122    1\n",
      "8123    0\n",
      "Length: 8124, dtype: int32\n"
     ]
    }
   ],
   "source": [
    "# Encoding our label using LabelEncoder p:1 , e:0\n",
    "#Another approach for encoding class : df['class'] = df['class'].replace({'e':0, 'p':1})\n",
    "df1 = label_enc.fit_transform(y)\n",
    "print(pd.Series(df1))"
   ]
  },
  {
   "cell_type": "code",
   "execution_count": 17,
   "metadata": {},
   "outputs": [],
   "source": [
    "#Changing label in main dataset\n",
    "mushrooms['class'] = df1\n",
    "y = mushrooms['class']"
   ]
  },
  {
   "cell_type": "code",
   "execution_count": 18,
   "metadata": {},
   "outputs": [
    {
     "data": {
      "text/html": [
       "<div>\n",
       "<style scoped>\n",
       "    .dataframe tbody tr th:only-of-type {\n",
       "        vertical-align: middle;\n",
       "    }\n",
       "\n",
       "    .dataframe tbody tr th {\n",
       "        vertical-align: top;\n",
       "    }\n",
       "\n",
       "    .dataframe thead th {\n",
       "        text-align: right;\n",
       "    }\n",
       "</style>\n",
       "<table border=\"1\" class=\"dataframe\">\n",
       "  <thead>\n",
       "    <tr style=\"text-align: right;\">\n",
       "      <th></th>\n",
       "      <th>0</th>\n",
       "      <th>1</th>\n",
       "      <th>2</th>\n",
       "      <th>3</th>\n",
       "      <th>4</th>\n",
       "      <th>5</th>\n",
       "      <th>6</th>\n",
       "      <th>7</th>\n",
       "      <th>8</th>\n",
       "      <th>9</th>\n",
       "      <th>...</th>\n",
       "      <th>107</th>\n",
       "      <th>108</th>\n",
       "      <th>109</th>\n",
       "      <th>110</th>\n",
       "      <th>111</th>\n",
       "      <th>112</th>\n",
       "      <th>113</th>\n",
       "      <th>114</th>\n",
       "      <th>115</th>\n",
       "      <th>116</th>\n",
       "    </tr>\n",
       "  </thead>\n",
       "  <tbody>\n",
       "    <tr>\n",
       "      <th>0</th>\n",
       "      <td>0.0</td>\n",
       "      <td>0.0</td>\n",
       "      <td>0.0</td>\n",
       "      <td>0.0</td>\n",
       "      <td>0.0</td>\n",
       "      <td>1.0</td>\n",
       "      <td>0.0</td>\n",
       "      <td>0.0</td>\n",
       "      <td>1.0</td>\n",
       "      <td>0.0</td>\n",
       "      <td>...</td>\n",
       "      <td>1.0</td>\n",
       "      <td>0.0</td>\n",
       "      <td>0.0</td>\n",
       "      <td>0.0</td>\n",
       "      <td>0.0</td>\n",
       "      <td>0.0</td>\n",
       "      <td>0.0</td>\n",
       "      <td>0.0</td>\n",
       "      <td>1.0</td>\n",
       "      <td>0.0</td>\n",
       "    </tr>\n",
       "    <tr>\n",
       "      <th>1</th>\n",
       "      <td>0.0</td>\n",
       "      <td>0.0</td>\n",
       "      <td>0.0</td>\n",
       "      <td>0.0</td>\n",
       "      <td>0.0</td>\n",
       "      <td>1.0</td>\n",
       "      <td>0.0</td>\n",
       "      <td>0.0</td>\n",
       "      <td>1.0</td>\n",
       "      <td>0.0</td>\n",
       "      <td>...</td>\n",
       "      <td>0.0</td>\n",
       "      <td>0.0</td>\n",
       "      <td>0.0</td>\n",
       "      <td>0.0</td>\n",
       "      <td>1.0</td>\n",
       "      <td>0.0</td>\n",
       "      <td>0.0</td>\n",
       "      <td>0.0</td>\n",
       "      <td>0.0</td>\n",
       "      <td>0.0</td>\n",
       "    </tr>\n",
       "    <tr>\n",
       "      <th>2</th>\n",
       "      <td>1.0</td>\n",
       "      <td>0.0</td>\n",
       "      <td>0.0</td>\n",
       "      <td>0.0</td>\n",
       "      <td>0.0</td>\n",
       "      <td>0.0</td>\n",
       "      <td>0.0</td>\n",
       "      <td>0.0</td>\n",
       "      <td>1.0</td>\n",
       "      <td>0.0</td>\n",
       "      <td>...</td>\n",
       "      <td>0.0</td>\n",
       "      <td>0.0</td>\n",
       "      <td>0.0</td>\n",
       "      <td>0.0</td>\n",
       "      <td>0.0</td>\n",
       "      <td>0.0</td>\n",
       "      <td>1.0</td>\n",
       "      <td>0.0</td>\n",
       "      <td>0.0</td>\n",
       "      <td>0.0</td>\n",
       "    </tr>\n",
       "    <tr>\n",
       "      <th>3</th>\n",
       "      <td>0.0</td>\n",
       "      <td>0.0</td>\n",
       "      <td>0.0</td>\n",
       "      <td>0.0</td>\n",
       "      <td>0.0</td>\n",
       "      <td>1.0</td>\n",
       "      <td>0.0</td>\n",
       "      <td>0.0</td>\n",
       "      <td>0.0</td>\n",
       "      <td>1.0</td>\n",
       "      <td>...</td>\n",
       "      <td>1.0</td>\n",
       "      <td>0.0</td>\n",
       "      <td>0.0</td>\n",
       "      <td>0.0</td>\n",
       "      <td>0.0</td>\n",
       "      <td>0.0</td>\n",
       "      <td>0.0</td>\n",
       "      <td>0.0</td>\n",
       "      <td>1.0</td>\n",
       "      <td>0.0</td>\n",
       "    </tr>\n",
       "    <tr>\n",
       "      <th>4</th>\n",
       "      <td>0.0</td>\n",
       "      <td>0.0</td>\n",
       "      <td>0.0</td>\n",
       "      <td>0.0</td>\n",
       "      <td>0.0</td>\n",
       "      <td>1.0</td>\n",
       "      <td>0.0</td>\n",
       "      <td>0.0</td>\n",
       "      <td>1.0</td>\n",
       "      <td>0.0</td>\n",
       "      <td>...</td>\n",
       "      <td>0.0</td>\n",
       "      <td>0.0</td>\n",
       "      <td>0.0</td>\n",
       "      <td>0.0</td>\n",
       "      <td>1.0</td>\n",
       "      <td>0.0</td>\n",
       "      <td>0.0</td>\n",
       "      <td>0.0</td>\n",
       "      <td>0.0</td>\n",
       "      <td>0.0</td>\n",
       "    </tr>\n",
       "    <tr>\n",
       "      <th>...</th>\n",
       "      <td>...</td>\n",
       "      <td>...</td>\n",
       "      <td>...</td>\n",
       "      <td>...</td>\n",
       "      <td>...</td>\n",
       "      <td>...</td>\n",
       "      <td>...</td>\n",
       "      <td>...</td>\n",
       "      <td>...</td>\n",
       "      <td>...</td>\n",
       "      <td>...</td>\n",
       "      <td>...</td>\n",
       "      <td>...</td>\n",
       "      <td>...</td>\n",
       "      <td>...</td>\n",
       "      <td>...</td>\n",
       "      <td>...</td>\n",
       "      <td>...</td>\n",
       "      <td>...</td>\n",
       "      <td>...</td>\n",
       "      <td>...</td>\n",
       "    </tr>\n",
       "    <tr>\n",
       "      <th>8119</th>\n",
       "      <td>0.0</td>\n",
       "      <td>0.0</td>\n",
       "      <td>0.0</td>\n",
       "      <td>1.0</td>\n",
       "      <td>0.0</td>\n",
       "      <td>0.0</td>\n",
       "      <td>0.0</td>\n",
       "      <td>0.0</td>\n",
       "      <td>1.0</td>\n",
       "      <td>0.0</td>\n",
       "      <td>...</td>\n",
       "      <td>0.0</td>\n",
       "      <td>0.0</td>\n",
       "      <td>0.0</td>\n",
       "      <td>0.0</td>\n",
       "      <td>0.0</td>\n",
       "      <td>1.0</td>\n",
       "      <td>0.0</td>\n",
       "      <td>0.0</td>\n",
       "      <td>0.0</td>\n",
       "      <td>0.0</td>\n",
       "    </tr>\n",
       "    <tr>\n",
       "      <th>8120</th>\n",
       "      <td>0.0</td>\n",
       "      <td>0.0</td>\n",
       "      <td>0.0</td>\n",
       "      <td>0.0</td>\n",
       "      <td>0.0</td>\n",
       "      <td>1.0</td>\n",
       "      <td>0.0</td>\n",
       "      <td>0.0</td>\n",
       "      <td>1.0</td>\n",
       "      <td>0.0</td>\n",
       "      <td>...</td>\n",
       "      <td>0.0</td>\n",
       "      <td>1.0</td>\n",
       "      <td>0.0</td>\n",
       "      <td>0.0</td>\n",
       "      <td>0.0</td>\n",
       "      <td>1.0</td>\n",
       "      <td>0.0</td>\n",
       "      <td>0.0</td>\n",
       "      <td>0.0</td>\n",
       "      <td>0.0</td>\n",
       "    </tr>\n",
       "    <tr>\n",
       "      <th>8121</th>\n",
       "      <td>0.0</td>\n",
       "      <td>0.0</td>\n",
       "      <td>1.0</td>\n",
       "      <td>0.0</td>\n",
       "      <td>0.0</td>\n",
       "      <td>0.0</td>\n",
       "      <td>0.0</td>\n",
       "      <td>0.0</td>\n",
       "      <td>1.0</td>\n",
       "      <td>0.0</td>\n",
       "      <td>...</td>\n",
       "      <td>0.0</td>\n",
       "      <td>0.0</td>\n",
       "      <td>0.0</td>\n",
       "      <td>0.0</td>\n",
       "      <td>0.0</td>\n",
       "      <td>1.0</td>\n",
       "      <td>0.0</td>\n",
       "      <td>0.0</td>\n",
       "      <td>0.0</td>\n",
       "      <td>0.0</td>\n",
       "    </tr>\n",
       "    <tr>\n",
       "      <th>8122</th>\n",
       "      <td>0.0</td>\n",
       "      <td>0.0</td>\n",
       "      <td>0.0</td>\n",
       "      <td>1.0</td>\n",
       "      <td>0.0</td>\n",
       "      <td>0.0</td>\n",
       "      <td>0.0</td>\n",
       "      <td>0.0</td>\n",
       "      <td>0.0</td>\n",
       "      <td>1.0</td>\n",
       "      <td>...</td>\n",
       "      <td>0.0</td>\n",
       "      <td>1.0</td>\n",
       "      <td>0.0</td>\n",
       "      <td>0.0</td>\n",
       "      <td>0.0</td>\n",
       "      <td>1.0</td>\n",
       "      <td>0.0</td>\n",
       "      <td>0.0</td>\n",
       "      <td>0.0</td>\n",
       "      <td>0.0</td>\n",
       "    </tr>\n",
       "    <tr>\n",
       "      <th>8123</th>\n",
       "      <td>0.0</td>\n",
       "      <td>0.0</td>\n",
       "      <td>0.0</td>\n",
       "      <td>0.0</td>\n",
       "      <td>0.0</td>\n",
       "      <td>1.0</td>\n",
       "      <td>0.0</td>\n",
       "      <td>0.0</td>\n",
       "      <td>1.0</td>\n",
       "      <td>0.0</td>\n",
       "      <td>...</td>\n",
       "      <td>0.0</td>\n",
       "      <td>0.0</td>\n",
       "      <td>0.0</td>\n",
       "      <td>0.0</td>\n",
       "      <td>0.0</td>\n",
       "      <td>1.0</td>\n",
       "      <td>0.0</td>\n",
       "      <td>0.0</td>\n",
       "      <td>0.0</td>\n",
       "      <td>0.0</td>\n",
       "    </tr>\n",
       "  </tbody>\n",
       "</table>\n",
       "<p>8124 rows × 117 columns</p>\n",
       "</div>"
      ],
      "text/plain": [
       "      0    1    2    3    4    5    6    7    8    9    ...  107  108  109  \\\n",
       "0     0.0  0.0  0.0  0.0  0.0  1.0  0.0  0.0  1.0  0.0  ...  1.0  0.0  0.0   \n",
       "1     0.0  0.0  0.0  0.0  0.0  1.0  0.0  0.0  1.0  0.0  ...  0.0  0.0  0.0   \n",
       "2     1.0  0.0  0.0  0.0  0.0  0.0  0.0  0.0  1.0  0.0  ...  0.0  0.0  0.0   \n",
       "3     0.0  0.0  0.0  0.0  0.0  1.0  0.0  0.0  0.0  1.0  ...  1.0  0.0  0.0   \n",
       "4     0.0  0.0  0.0  0.0  0.0  1.0  0.0  0.0  1.0  0.0  ...  0.0  0.0  0.0   \n",
       "...   ...  ...  ...  ...  ...  ...  ...  ...  ...  ...  ...  ...  ...  ...   \n",
       "8119  0.0  0.0  0.0  1.0  0.0  0.0  0.0  0.0  1.0  0.0  ...  0.0  0.0  0.0   \n",
       "8120  0.0  0.0  0.0  0.0  0.0  1.0  0.0  0.0  1.0  0.0  ...  0.0  1.0  0.0   \n",
       "8121  0.0  0.0  1.0  0.0  0.0  0.0  0.0  0.0  1.0  0.0  ...  0.0  0.0  0.0   \n",
       "8122  0.0  0.0  0.0  1.0  0.0  0.0  0.0  0.0  0.0  1.0  ...  0.0  1.0  0.0   \n",
       "8123  0.0  0.0  0.0  0.0  0.0  1.0  0.0  0.0  1.0  0.0  ...  0.0  0.0  0.0   \n",
       "\n",
       "      110  111  112  113  114  115  116  \n",
       "0     0.0  0.0  0.0  0.0  0.0  1.0  0.0  \n",
       "1     0.0  1.0  0.0  0.0  0.0  0.0  0.0  \n",
       "2     0.0  0.0  0.0  1.0  0.0  0.0  0.0  \n",
       "3     0.0  0.0  0.0  0.0  0.0  1.0  0.0  \n",
       "4     0.0  1.0  0.0  0.0  0.0  0.0  0.0  \n",
       "...   ...  ...  ...  ...  ...  ...  ...  \n",
       "8119  0.0  0.0  1.0  0.0  0.0  0.0  0.0  \n",
       "8120  0.0  0.0  1.0  0.0  0.0  0.0  0.0  \n",
       "8121  0.0  0.0  1.0  0.0  0.0  0.0  0.0  \n",
       "8122  0.0  0.0  1.0  0.0  0.0  0.0  0.0  \n",
       "8123  0.0  0.0  1.0  0.0  0.0  0.0  0.0  \n",
       "\n",
       "[8124 rows x 117 columns]"
      ]
     },
     "execution_count": 18,
     "metadata": {},
     "output_type": "execute_result"
    }
   ],
   "source": [
    "#Encoding our features using OneHotEncoder which will increase dimensionality\n",
    "X_new = ohe.fit_transform(X)\n",
    "\n",
    "#Converting encoded data into dataframe for further interpretation\n",
    "X_new = pd.DataFrame(X_new) \n",
    "X_new"
   ]
  },
  {
   "cell_type": "markdown",
   "metadata": {},
   "source": [
    "#### Logistic Regression"
   ]
  },
  {
   "cell_type": "code",
   "execution_count": 20,
   "metadata": {},
   "outputs": [
    {
     "name": "stdout",
     "output_type": "stream",
     "text": [
      "Best accuracy is 1.0 on random_state 2\n"
     ]
    }
   ],
   "source": [
    "#Finding Random state using LogisticRegression\n",
    "maxAccu=0\n",
    "maxRS = 0\n",
    "for i in range(1,200):\n",
    "    x_train,x_test,y_train,y_test = train_test_split(X_new,y,test_size=0.3,random_state=i)\n",
    "    LR = LogisticRegression()\n",
    "    LR.fit(x_train,y_train)\n",
    "    predlr = LR.predict(x_test)\n",
    "    acc = accuracy_score(y_test,predlr)\n",
    "    if acc>maxAccu:\n",
    "        maxAccu=acc\n",
    "        maxRS=i\n",
    "print(\"Best accuracy is\",maxAccu,\"on random_state\",maxRS)"
   ]
  },
  {
   "cell_type": "code",
   "execution_count": 21,
   "metadata": {},
   "outputs": [
    {
     "data": {
      "text/plain": [
       "<AxesSubplot:title={'center':'Normalized Confusion Matrix'}, xlabel='Predicted label', ylabel='True label'>"
      ]
     },
     "execution_count": 21,
     "metadata": {},
     "output_type": "execute_result"
    },
    {
     "data": {
      "image/png": "[encoded data removed]",
      "text/plain": [
       "<Figure size 432x288 with 2 Axes>"
      ]
     },
     "metadata": {},
     "output_type": "display_data"
    }
   ],
   "source": [
    "#Plotting Confusion Matrix of Logistic Regression model\n",
    "skplt.metrics.plot_confusion_matrix(y_test, predlr, normalize=True)"
   ]
  },
  {
   "cell_type": "markdown",
   "metadata": {},
   "source": [
    "#### Using Principal Component Analysis for Dimensionality Reduction "
   ]
  },
  {
   "cell_type": "code",
   "execution_count": 22,
   "metadata": {},
   "outputs": [
    {
     "data": {
      "text/plain": [
       "array([[-3.28473661e+00,  1.02010486e+00, -1.35359102e+00, ...,\n",
       "        -2.44030268e-16, -1.71554051e-17,  1.96724900e-18],\n",
       "       [-3.96948124e+00, -8.56895091e-01,  2.37503078e-01, ...,\n",
       "        -1.23883178e-15, -4.74811160e-16,  4.13262496e-17],\n",
       "       [-4.95858617e+00, -2.11112003e-01,  4.66430101e-01, ...,\n",
       "         6.92906694e-16,  2.48651898e-16,  6.05217500e-17],\n",
       "       ...,\n",
       "       [-1.87389543e+00,  8.64938967e+00,  1.45519187e+01, ...,\n",
       "         1.28194790e-16,  1.15530999e-16, -1.02049875e-17],\n",
       "       [ 3.63689208e+00,  4.46083644e+00, -2.08311189e+00, ...,\n",
       "         3.29984248e-17,  2.11939198e-18,  2.27424493e-18],\n",
       "       [-1.73109707e+00,  9.46850571e+00,  1.62572020e+01, ...,\n",
       "        -1.88178943e-16, -1.86541724e-16,  4.22172987e-17]])"
      ]
     },
     "execution_count": 22,
     "metadata": {},
     "output_type": "execute_result"
    }
   ],
   "source": [
    "#using Standard Scaler to scale our data since PCA can only be applied on scaled data\n",
    "scaler = StandardScaler()\n",
    "X_scaled = scaler.fit_transform(X_new)\n",
    "pca = PCA()\n",
    "pca.fit_transform(X_scaled)"
   ]
  },
  {
   "cell_type": "code",
   "execution_count": 23,
   "metadata": {},
   "outputs": [
    {
     "data": {
      "image/png": "[encoded data removed]",
      "text/plain": [
       "<Figure size 432x288 with 1 Axes>"
      ]
     },
     "metadata": {},
     "output_type": "display_data"
    }
   ],
   "source": [
    "#Plotting dispersion of Principal Component Created by PCA\n",
    "plt.figure()\n",
    "plt.plot(np.cumsum(pca.explained_variance_ratio_))\n",
    "plt.xlabel(\"Principal Components\")\n",
    "plt.ylabel(\"Variance Covered\")\n",
    "plt.title(\"PCA\")\n",
    "plt.show()"
   ]
  },
  {
   "cell_type": "markdown",
   "metadata": {},
   "source": [
    "It is observed that 50 components covers almost 85% of the data"
   ]
  },
  {
   "cell_type": "code",
   "execution_count": 24,
   "metadata": {},
   "outputs": [
    {
     "data": {
      "text/html": [
       "<div>\n",
       "<style scoped>\n",
       "    .dataframe tbody tr th:only-of-type {\n",
       "        vertical-align: middle;\n",
       "    }\n",
       "\n",
       "    .dataframe tbody tr th {\n",
       "        vertical-align: top;\n",
       "    }\n",
       "\n",
       "    .dataframe thead th {\n",
       "        text-align: right;\n",
       "    }\n",
       "</style>\n",
       "<table border=\"1\" class=\"dataframe\">\n",
       "  <thead>\n",
       "    <tr style=\"text-align: right;\">\n",
       "      <th></th>\n",
       "      <th>PC1</th>\n",
       "      <th>PC2</th>\n",
       "      <th>PC3</th>\n",
       "      <th>PC4</th>\n",
       "      <th>PC5</th>\n",
       "      <th>PC6</th>\n",
       "      <th>PC7</th>\n",
       "      <th>PC8</th>\n",
       "      <th>PC9</th>\n",
       "      <th>PC10</th>\n",
       "      <th>...</th>\n",
       "      <th>PC41</th>\n",
       "      <th>PC42</th>\n",
       "      <th>PC43</th>\n",
       "      <th>PC44</th>\n",
       "      <th>PC45</th>\n",
       "      <th>PC46</th>\n",
       "      <th>PC47</th>\n",
       "      <th>PC48</th>\n",
       "      <th>PC49</th>\n",
       "      <th>PC50</th>\n",
       "    </tr>\n",
       "  </thead>\n",
       "  <tbody>\n",
       "    <tr>\n",
       "      <th>0</th>\n",
       "      <td>-3.284737</td>\n",
       "      <td>1.020104</td>\n",
       "      <td>-1.353590</td>\n",
       "      <td>1.361727</td>\n",
       "      <td>-0.478379</td>\n",
       "      <td>-0.486222</td>\n",
       "      <td>-2.988414</td>\n",
       "      <td>-1.085986</td>\n",
       "      <td>-4.907994</td>\n",
       "      <td>4.234096</td>\n",
       "      <td>...</td>\n",
       "      <td>-1.613554</td>\n",
       "      <td>0.361505</td>\n",
       "      <td>0.865254</td>\n",
       "      <td>-0.037873</td>\n",
       "      <td>-0.406135</td>\n",
       "      <td>0.499663</td>\n",
       "      <td>1.297626</td>\n",
       "      <td>1.502650</td>\n",
       "      <td>1.149260</td>\n",
       "      <td>-0.708867</td>\n",
       "    </tr>\n",
       "    <tr>\n",
       "      <th>1</th>\n",
       "      <td>-3.969480</td>\n",
       "      <td>-0.856895</td>\n",
       "      <td>0.237502</td>\n",
       "      <td>1.903045</td>\n",
       "      <td>1.281141</td>\n",
       "      <td>-2.193234</td>\n",
       "      <td>-4.367855</td>\n",
       "      <td>-0.493766</td>\n",
       "      <td>0.959790</td>\n",
       "      <td>-1.859142</td>\n",
       "      <td>...</td>\n",
       "      <td>-1.600317</td>\n",
       "      <td>1.088450</td>\n",
       "      <td>0.377912</td>\n",
       "      <td>-0.471159</td>\n",
       "      <td>-0.375307</td>\n",
       "      <td>1.641615</td>\n",
       "      <td>2.384536</td>\n",
       "      <td>1.779346</td>\n",
       "      <td>1.073842</td>\n",
       "      <td>1.329887</td>\n",
       "    </tr>\n",
       "    <tr>\n",
       "      <th>2</th>\n",
       "      <td>-4.958586</td>\n",
       "      <td>-0.211114</td>\n",
       "      <td>0.466426</td>\n",
       "      <td>1.557357</td>\n",
       "      <td>1.971419</td>\n",
       "      <td>-3.363299</td>\n",
       "      <td>-5.567682</td>\n",
       "      <td>-0.925804</td>\n",
       "      <td>2.947182</td>\n",
       "      <td>-1.861848</td>\n",
       "      <td>...</td>\n",
       "      <td>0.686024</td>\n",
       "      <td>0.721883</td>\n",
       "      <td>0.067054</td>\n",
       "      <td>0.761574</td>\n",
       "      <td>0.471763</td>\n",
       "      <td>-1.981027</td>\n",
       "      <td>-0.651874</td>\n",
       "      <td>0.762170</td>\n",
       "      <td>-0.103014</td>\n",
       "      <td>-0.667112</td>\n",
       "    </tr>\n",
       "    <tr>\n",
       "      <th>3</th>\n",
       "      <td>-3.469968</td>\n",
       "      <td>0.337933</td>\n",
       "      <td>-1.334986</td>\n",
       "      <td>0.881354</td>\n",
       "      <td>-0.008577</td>\n",
       "      <td>-0.638588</td>\n",
       "      <td>-3.126125</td>\n",
       "      <td>-0.874240</td>\n",
       "      <td>-4.493634</td>\n",
       "      <td>4.287652</td>\n",
       "      <td>...</td>\n",
       "      <td>0.997468</td>\n",
       "      <td>0.295845</td>\n",
       "      <td>0.168243</td>\n",
       "      <td>0.609938</td>\n",
       "      <td>-0.219239</td>\n",
       "      <td>-0.973209</td>\n",
       "      <td>-0.719027</td>\n",
       "      <td>-0.098900</td>\n",
       "      <td>0.654477</td>\n",
       "      <td>-0.923723</td>\n",
       "    </tr>\n",
       "    <tr>\n",
       "      <th>4</th>\n",
       "      <td>-2.726573</td>\n",
       "      <td>0.889648</td>\n",
       "      <td>-2.051850</td>\n",
       "      <td>4.117679</td>\n",
       "      <td>-2.710544</td>\n",
       "      <td>2.501478</td>\n",
       "      <td>1.354369</td>\n",
       "      <td>0.029293</td>\n",
       "      <td>0.450928</td>\n",
       "      <td>-1.160108</td>\n",
       "      <td>...</td>\n",
       "      <td>-2.887294</td>\n",
       "      <td>0.275839</td>\n",
       "      <td>1.086823</td>\n",
       "      <td>-0.333184</td>\n",
       "      <td>-0.329226</td>\n",
       "      <td>1.802634</td>\n",
       "      <td>0.900049</td>\n",
       "      <td>1.194893</td>\n",
       "      <td>-1.033222</td>\n",
       "      <td>0.325016</td>\n",
       "    </tr>\n",
       "    <tr>\n",
       "      <th>...</th>\n",
       "      <td>...</td>\n",
       "      <td>...</td>\n",
       "      <td>...</td>\n",
       "      <td>...</td>\n",
       "      <td>...</td>\n",
       "      <td>...</td>\n",
       "      <td>...</td>\n",
       "      <td>...</td>\n",
       "      <td>...</td>\n",
       "      <td>...</td>\n",
       "      <td>...</td>\n",
       "      <td>...</td>\n",
       "      <td>...</td>\n",
       "      <td>...</td>\n",
       "      <td>...</td>\n",
       "      <td>...</td>\n",
       "      <td>...</td>\n",
       "      <td>...</td>\n",
       "      <td>...</td>\n",
       "      <td>...</td>\n",
       "      <td>...</td>\n",
       "    </tr>\n",
       "    <tr>\n",
       "      <th>8119</th>\n",
       "      <td>-1.393195</td>\n",
       "      <td>9.999911</td>\n",
       "      <td>16.232499</td>\n",
       "      <td>-0.584964</td>\n",
       "      <td>-4.551462</td>\n",
       "      <td>0.140191</td>\n",
       "      <td>0.335842</td>\n",
       "      <td>0.000912</td>\n",
       "      <td>-0.374900</td>\n",
       "      <td>-0.124083</td>\n",
       "      <td>...</td>\n",
       "      <td>-0.498889</td>\n",
       "      <td>-1.784237</td>\n",
       "      <td>2.676990</td>\n",
       "      <td>-0.125935</td>\n",
       "      <td>-0.779946</td>\n",
       "      <td>-0.058684</td>\n",
       "      <td>-0.790681</td>\n",
       "      <td>-0.635447</td>\n",
       "      <td>-0.314547</td>\n",
       "      <td>0.433904</td>\n",
       "    </tr>\n",
       "    <tr>\n",
       "      <th>8120</th>\n",
       "      <td>-1.287643</td>\n",
       "      <td>9.097591</td>\n",
       "      <td>15.370203</td>\n",
       "      <td>-1.154637</td>\n",
       "      <td>-5.643479</td>\n",
       "      <td>0.663993</td>\n",
       "      <td>-0.929788</td>\n",
       "      <td>-0.353519</td>\n",
       "      <td>0.124387</td>\n",
       "      <td>0.533319</td>\n",
       "      <td>...</td>\n",
       "      <td>-0.953651</td>\n",
       "      <td>-2.627822</td>\n",
       "      <td>-0.087468</td>\n",
       "      <td>0.141244</td>\n",
       "      <td>-0.057481</td>\n",
       "      <td>-0.198697</td>\n",
       "      <td>-0.404198</td>\n",
       "      <td>-0.204180</td>\n",
       "      <td>-0.089809</td>\n",
       "      <td>0.389836</td>\n",
       "    </tr>\n",
       "    <tr>\n",
       "      <th>8121</th>\n",
       "      <td>-1.873890</td>\n",
       "      <td>8.649385</td>\n",
       "      <td>14.551923</td>\n",
       "      <td>-0.944449</td>\n",
       "      <td>-5.257495</td>\n",
       "      <td>-0.417204</td>\n",
       "      <td>0.414287</td>\n",
       "      <td>-0.474261</td>\n",
       "      <td>-1.059862</td>\n",
       "      <td>-0.621188</td>\n",
       "      <td>...</td>\n",
       "      <td>-0.388720</td>\n",
       "      <td>-0.036062</td>\n",
       "      <td>-0.599504</td>\n",
       "      <td>0.222146</td>\n",
       "      <td>-0.154133</td>\n",
       "      <td>-0.226938</td>\n",
       "      <td>0.128871</td>\n",
       "      <td>1.026556</td>\n",
       "      <td>0.401744</td>\n",
       "      <td>0.156306</td>\n",
       "    </tr>\n",
       "    <tr>\n",
       "      <th>8122</th>\n",
       "      <td>3.636890</td>\n",
       "      <td>4.460841</td>\n",
       "      <td>-2.083100</td>\n",
       "      <td>-0.019573</td>\n",
       "      <td>0.249887</td>\n",
       "      <td>-0.448584</td>\n",
       "      <td>-1.140795</td>\n",
       "      <td>0.141463</td>\n",
       "      <td>-0.158538</td>\n",
       "      <td>-0.312798</td>\n",
       "      <td>...</td>\n",
       "      <td>-0.505302</td>\n",
       "      <td>1.411712</td>\n",
       "      <td>1.117432</td>\n",
       "      <td>-1.105638</td>\n",
       "      <td>0.284040</td>\n",
       "      <td>0.077165</td>\n",
       "      <td>-1.405751</td>\n",
       "      <td>-0.854659</td>\n",
       "      <td>1.091529</td>\n",
       "      <td>0.090970</td>\n",
       "    </tr>\n",
       "    <tr>\n",
       "      <th>8123</th>\n",
       "      <td>-1.731098</td>\n",
       "      <td>9.468505</td>\n",
       "      <td>16.257199</td>\n",
       "      <td>-0.656893</td>\n",
       "      <td>-4.764267</td>\n",
       "      <td>0.323296</td>\n",
       "      <td>0.187767</td>\n",
       "      <td>-0.054526</td>\n",
       "      <td>-0.578578</td>\n",
       "      <td>0.124649</td>\n",
       "      <td>...</td>\n",
       "      <td>-1.164171</td>\n",
       "      <td>-2.513903</td>\n",
       "      <td>-0.281744</td>\n",
       "      <td>0.384209</td>\n",
       "      <td>-0.182822</td>\n",
       "      <td>-0.313509</td>\n",
       "      <td>-0.754419</td>\n",
       "      <td>-0.259559</td>\n",
       "      <td>-0.051584</td>\n",
       "      <td>0.305511</td>\n",
       "    </tr>\n",
       "  </tbody>\n",
       "</table>\n",
       "<p>8124 rows × 50 columns</p>\n",
       "</div>"
      ],
      "text/plain": [
       "           PC1       PC2        PC3       PC4       PC5       PC6       PC7  \\\n",
       "0    -3.284737  1.020104  -1.353590  1.361727 -0.478379 -0.486222 -2.988414   \n",
       "1    -3.969480 -0.856895   0.237502  1.903045  1.281141 -2.193234 -4.367855   \n",
       "2    -4.958586 -0.211114   0.466426  1.557357  1.971419 -3.363299 -5.567682   \n",
       "3    -3.469968  0.337933  -1.334986  0.881354 -0.008577 -0.638588 -3.126125   \n",
       "4    -2.726573  0.889648  -2.051850  4.117679 -2.710544  2.501478  1.354369   \n",
       "...        ...       ...        ...       ...       ...       ...       ...   \n",
       "8119 -1.393195  9.999911  16.232499 -0.584964 -4.551462  0.140191  0.335842   \n",
       "8120 -1.287643  9.097591  15.370203 -1.154637 -5.643479  0.663993 -0.929788   \n",
       "8121 -1.873890  8.649385  14.551923 -0.944449 -5.257495 -0.417204  0.414287   \n",
       "8122  3.636890  4.460841  -2.083100 -0.019573  0.249887 -0.448584 -1.140795   \n",
       "8123 -1.731098  9.468505  16.257199 -0.656893 -4.764267  0.323296  0.187767   \n",
       "\n",
       "           PC8       PC9      PC10  ...      PC41      PC42      PC43  \\\n",
       "0    -1.085986 -4.907994  4.234096  ... -1.613554  0.361505  0.865254   \n",
       "1    -0.493766  0.959790 -1.859142  ... -1.600317  1.088450  0.377912   \n",
       "2    -0.925804  2.947182 -1.861848  ...  0.686024  0.721883  0.067054   \n",
       "3    -0.874240 -4.493634  4.287652  ...  0.997468  0.295845  0.168243   \n",
       "4     0.029293  0.450928 -1.160108  ... -2.887294  0.275839  1.086823   \n",
       "...        ...       ...       ...  ...       ...       ...       ...   \n",
       "8119  0.000912 -0.374900 -0.124083  ... -0.498889 -1.784237  2.676990   \n",
       "8120 -0.353519  0.124387  0.533319  ... -0.953651 -2.627822 -0.087468   \n",
       "8121 -0.474261 -1.059862 -0.621188  ... -0.388720 -0.036062 -0.599504   \n",
       "8122  0.141463 -0.158538 -0.312798  ... -0.505302  1.411712  1.117432   \n",
       "8123 -0.054526 -0.578578  0.124649  ... -1.164171 -2.513903 -0.281744   \n",
       "\n",
       "          PC44      PC45      PC46      PC47      PC48      PC49      PC50  \n",
       "0    -0.037873 -0.406135  0.499663  1.297626  1.502650  1.149260 -0.708867  \n",
       "1    -0.471159 -0.375307  1.641615  2.384536  1.779346  1.073842  1.329887  \n",
       "2     0.761574  0.471763 -1.981027 -0.651874  0.762170 -0.103014 -0.667112  \n",
       "3     0.609938 -0.219239 -0.973209 -0.719027 -0.098900  0.654477 -0.923723  \n",
       "4    -0.333184 -0.329226  1.802634  0.900049  1.194893 -1.033222  0.325016  \n",
       "...        ...       ...       ...       ...       ...       ...       ...  \n",
       "8119 -0.125935 -0.779946 -0.058684 -0.790681 -0.635447 -0.314547  0.433904  \n",
       "8120  0.141244 -0.057481 -0.198697 -0.404198 -0.204180 -0.089809  0.389836  \n",
       "8121  0.222146 -0.154133 -0.226938  0.128871  1.026556  0.401744  0.156306  \n",
       "8122 -1.105638  0.284040  0.077165 -1.405751 -0.854659  1.091529  0.090970  \n",
       "8123  0.384209 -0.182822 -0.313509 -0.754419 -0.259559 -0.051584  0.305511  \n",
       "\n",
       "[8124 rows x 50 columns]"
      ]
     },
     "execution_count": 24,
     "metadata": {},
     "output_type": "execute_result"
    }
   ],
   "source": [
    "#Using 50 components to train our model to reduce dimensionality\n",
    "pca = PCA(n_components = 50)\n",
    "new_comp = pca.fit_transform(X_scaled)\n",
    "pri_comp = pd.DataFrame(new_comp,columns=['PC1','PC2','PC3','PC4','PC5','PC6','PC7','PC8','PC9','PC10','PC11','PC12','PC13','PC14','PC15','PC16','PC17','PC18','PC19','PC20',\n",
    "                                         'PC21','PC22','PC23','PC24','PC25','PC26','PC27','PC28','PC29','PC30','PC31','PC32','PC33','PC34','PC35','PC36','PC37','PC38','PC39','PC40',\n",
    "                                         'PC41','PC42','PC43','PC44','PC45','PC46','PC47','PC48','PC49','PC50'])\n",
    "pri_comp"
   ]
  },
  {
   "cell_type": "markdown",
   "metadata": {},
   "source": [
    "#### Support Vector Classifier\n"
   ]
  },
  {
   "cell_type": "code",
   "execution_count": 25,
   "metadata": {},
   "outputs": [
    {
     "name": "stdout",
     "output_type": "stream",
     "text": [
      "Accuracy Score for SVC using PCA is : 99.92 % \n",
      "\n",
      "Confusion Matrix of SVC: \n",
      " [[1298    0]\n",
      " [   2 1138]] \n",
      "\n",
      "Classification report: \n",
      "               precision    recall  f1-score   support\n",
      "\n",
      "           0       1.00      1.00      1.00      1298\n",
      "           1       1.00      1.00      1.00      1140\n",
      "\n",
      "    accuracy                           1.00      2438\n",
      "   macro avg       1.00      1.00      1.00      2438\n",
      "weighted avg       1.00      1.00      1.00      2438\n",
      "\n"
     ]
    }
   ],
   "source": [
    "#Finally applying SVC for model analysis\n",
    "x_train, x_test, y_train, y_test = train_test_split(pri_comp, y,test_size =0.3, random_state = 2)\n",
    "svc = SVC()\n",
    "svc.fit(x_train,y_train)\n",
    "svc.score(x_test,y_test)\n",
    "predSVC=svc.predict(x_test)\n",
    "print('Accuracy Score for SVC using PCA is :',round(accuracy_score(y_test,predSVC),4)*100,'% \\n')\n",
    "print('Confusion Matrix of SVC: \\n',confusion_matrix(y_test,predSVC), '\\n')\n",
    "print('Classification report: \\n',classification_report(y_test,predSVC))"
   ]
  },
  {
   "cell_type": "code",
   "execution_count": 26,
   "metadata": {},
   "outputs": [
    {
     "data": {
      "text/plain": [
       "<AxesSubplot:title={'center':'Normalized Confusion Matrix'}, xlabel='Predicted label', ylabel='True label'>"
      ]
     },
     "execution_count": 26,
     "metadata": {},
     "output_type": "execute_result"
    },
    {
     "data": {
      "image/png": "[encoded data removed]",
      "text/plain": [
       "<Figure size 432x288 with 2 Axes>"
      ]
     },
     "metadata": {},
     "output_type": "display_data"
    }
   ],
   "source": [
    "#Plotting Confusion Matrix of Final Decision Tree model\n",
    "skplt.metrics.plot_confusion_matrix(y_test,predSVC, normalize=True)"
   ]
  },
  {
   "cell_type": "markdown",
   "metadata": {},
   "source": [
    "### DecisionTree Classifier"
   ]
  },
  {
   "cell_type": "code",
   "execution_count": 27,
   "metadata": {},
   "outputs": [
    {
     "data": {
      "text/plain": [
       "DecisionTreeClassifier(max_depth=1)"
      ]
     },
     "execution_count": 27,
     "metadata": {},
     "output_type": "execute_result"
    }
   ],
   "source": [
    "#Instantiating Decision Tree model and training it\n",
    "DT = DecisionTreeClassifier(max_depth = 1)\n",
    "DT.fit(x_train,y_train)\n"
   ]
  },
  {
   "cell_type": "code",
   "execution_count": 28,
   "metadata": {},
   "outputs": [
    {
     "name": "stdout",
     "output_type": "stream",
     "text": [
      "Accuracy Score for Decision Treee is : 89.34 % \n",
      "\n",
      "Confusion Matrix of Decision Tree: \n",
      " [[1295    3]\n",
      " [ 257  883]] \n",
      "\n",
      "Classification Decision Tree: \n",
      "               precision    recall  f1-score   support\n",
      "\n",
      "           0       0.83      1.00      0.91      1298\n",
      "           1       1.00      0.77      0.87      1140\n",
      "\n",
      "    accuracy                           0.89      2438\n",
      "   macro avg       0.92      0.89      0.89      2438\n",
      "weighted avg       0.91      0.89      0.89      2438\n",
      "\n"
     ]
    }
   ],
   "source": [
    "#Model Evaluation \n",
    "preddt=DT.predict(x_test)\n",
    "print('Accuracy Score for Decision Treee is :',round(accuracy_score(y_test,preddt),4)*100,'% \\n')\n",
    "print('Confusion Matrix of Decision Tree: \\n',confusion_matrix(y_test,preddt), '\\n')\n",
    "print('Classification Decision Tree: \\n',classification_report(y_test,preddt))"
   ]
  },
  {
   "cell_type": "code",
   "execution_count": 29,
   "metadata": {},
   "outputs": [
    {
     "data": {
      "text/plain": [
       "<AxesSubplot:title={'center':'Normalized Confusion Matrix'}, xlabel='Predicted label', ylabel='True label'>"
      ]
     },
     "execution_count": 29,
     "metadata": {},
     "output_type": "execute_result"
    },
    {
     "data": {
      "image/png": "[encoded data removed]",
      "text/plain": [
       "<Figure size 432x288 with 2 Axes>"
      ]
     },
     "metadata": {},
     "output_type": "display_data"
    }
   ],
   "source": [
    "#Plotting Confusion Matrix Decision Tree model\n",
    "skplt.metrics.plot_confusion_matrix(y_test, predlr, normalize=True)"
   ]
  },
  {
   "cell_type": "markdown",
   "metadata": {},
   "source": [
    "### Random Forest Classifier"
   ]
  },
  {
   "cell_type": "code",
   "execution_count": 30,
   "metadata": {},
   "outputs": [
    {
     "data": {
      "text/plain": [
       "RandomForestClassifier(max_depth=5)"
      ]
     },
     "execution_count": 30,
     "metadata": {},
     "output_type": "execute_result"
    }
   ],
   "source": [
    "#Model instantiating and training it\n",
    "RF = RandomForestClassifier(n_estimators=100, max_depth=5)\n",
    "RF.fit(x_train,y_train)\n"
   ]
  },
  {
   "cell_type": "code",
   "execution_count": 31,
   "metadata": {},
   "outputs": [
    {
     "name": "stdout",
     "output_type": "stream",
     "text": [
      "Accuracy Score for Random Forest Classifier is : 99.75 % \n",
      "\n",
      "Confusion Matrix of Random Forest Classifier : \n",
      " [[1294    4]\n",
      " [   2 1138]] \n",
      "\n",
      "Classification Random Forest Classifier : \n",
      "               precision    recall  f1-score   support\n",
      "\n",
      "           0       1.00      1.00      1.00      1298\n",
      "           1       1.00      1.00      1.00      1140\n",
      "\n",
      "    accuracy                           1.00      2438\n",
      "   macro avg       1.00      1.00      1.00      2438\n",
      "weighted avg       1.00      1.00      1.00      2438\n",
      "\n"
     ]
    }
   ],
   "source": [
    "#Model Evaluation\n",
    "predrf=RF.predict(x_test)\n",
    "print('Accuracy Score for Random Forest Classifier is :',round(accuracy_score(y_test,predrf),4)*100,'% \\n')\n",
    "print('Confusion Matrix of Random Forest Classifier : \\n',confusion_matrix(y_test,predrf), '\\n')\n",
    "print('Classification Random Forest Classifier : \\n',classification_report(y_test,predrf))"
   ]
  },
  {
   "cell_type": "code",
   "execution_count": 32,
   "metadata": {},
   "outputs": [
    {
     "data": {
      "text/plain": [
       "<AxesSubplot:title={'center':'Normalized Confusion Matrix'}, xlabel='Predicted label', ylabel='True label'>"
      ]
     },
     "execution_count": 32,
     "metadata": {},
     "output_type": "execute_result"
    },
    {
     "data": {
      "image/png": "[encoded data removed]",
      "text/plain": [
       "<Figure size 432x288 with 2 Axes>"
      ]
     },
     "metadata": {},
     "output_type": "display_data"
    }
   ],
   "source": [
    "#Plotting Confusion Matrix Decision Tree model\n",
    "skplt.metrics.plot_confusion_matrix(y_test, predrf, normalize=True)"
   ]
  },
  {
   "cell_type": "markdown",
   "metadata": {},
   "source": [
    "#### Checking Cross_val_score of all models"
   ]
  },
  {
   "cell_type": "code",
   "execution_count": 33,
   "metadata": {},
   "outputs": [
    {
     "name": "stdout",
     "output_type": "stream",
     "text": [
      "Cross validation score of Logistic Regression is : 0.9193\n",
      "Cross validation score of SVC is : 0.8825\n",
      "Cross validation score of Decision Tree : 0.8868\n",
      "Cross validation score Random Forest Classifier is : 0.919\n"
     ]
    }
   ],
   "source": [
    "#Printing cross_val_scores of all models used so far\n",
    "\n",
    "scr = cross_val_score(LR,X_new,y,cv = 5 )\n",
    "print(\"Cross validation score of Logistic Regression is :\", round(scr.mean(),4))\n",
    "\n",
    "cross_val_SVC = cross_val_score(svc,pri_comp,y,cv = 5 )\n",
    "print(\"Cross validation score of SVC is :\", round(cross_val_SVC.mean(),4))\n",
    "\n",
    "Cross_val_score_DT = cross_val_score(DT,X_new,y,cv = 5 )\n",
    "print(\"Cross validation score of Decision Tree :\", round(Cross_val_score_DT.mean(),4))\n",
    "\n",
    "Cross_val_score_RF = cross_val_score(RF,X_new,y,cv = 5 )\n",
    "print(\"Cross validation score Random Forest Classifier is :\",round(Cross_val_score_RF.mean(),4))"
   ]
  },
  {
   "cell_type": "code",
   "execution_count": 34,
   "metadata": {},
   "outputs": [
    {
     "data": {
      "text/html": [
       "<div>\n",
       "<style scoped>\n",
       "    .dataframe tbody tr th:only-of-type {\n",
       "        vertical-align: middle;\n",
       "    }\n",
       "\n",
       "    .dataframe tbody tr th {\n",
       "        vertical-align: top;\n",
       "    }\n",
       "\n",
       "    .dataframe thead th {\n",
       "        text-align: right;\n",
       "    }\n",
       "</style>\n",
       "<table border=\"1\" class=\"dataframe\">\n",
       "  <thead>\n",
       "    <tr style=\"text-align: right;\">\n",
       "      <th></th>\n",
       "      <th>Model Accuracy</th>\n",
       "      <th>Cross-Val-Score</th>\n",
       "      <th>(Model Accuracy) - (Cross-Val-Score)</th>\n",
       "    </tr>\n",
       "  </thead>\n",
       "  <tbody>\n",
       "    <tr>\n",
       "      <th>Logistic Regression</th>\n",
       "      <td>1.000</td>\n",
       "      <td>0.919</td>\n",
       "      <td>0.081</td>\n",
       "    </tr>\n",
       "    <tr>\n",
       "      <th>PCA</th>\n",
       "      <td>0.990</td>\n",
       "      <td>0.883</td>\n",
       "      <td>0.107</td>\n",
       "    </tr>\n",
       "    <tr>\n",
       "      <th>Decision Tree</th>\n",
       "      <td>0.890</td>\n",
       "      <td>0.886</td>\n",
       "      <td>0.004</td>\n",
       "    </tr>\n",
       "    <tr>\n",
       "      <th>Random Forest</th>\n",
       "      <td>0.989</td>\n",
       "      <td>0.902</td>\n",
       "      <td>0.087</td>\n",
       "    </tr>\n",
       "  </tbody>\n",
       "</table>\n",
       "</div>"
      ],
      "text/plain": [
       "                     Model Accuracy  Cross-Val-Score  \\\n",
       "Logistic Regression           1.000            0.919   \n",
       "PCA                           0.990            0.883   \n",
       "Decision Tree                 0.890            0.886   \n",
       "Random Forest                 0.989            0.902   \n",
       "\n",
       "                     (Model Accuracy) - (Cross-Val-Score)  \n",
       "Logistic Regression                                 0.081  \n",
       "PCA                                                 0.107  \n",
       "Decision Tree                                       0.004  \n",
       "Random Forest                                       0.087  "
      ]
     },
     "execution_count": 34,
     "metadata": {},
     "output_type": "execute_result"
    }
   ],
   "source": [
    "#Creating a Dataframe to check difference between model accuracy and cross_val_score\n",
    "data = {'Model Accuracy' : [1.00,0.99,0.89,0.989],\n",
    "                      'Cross-Val-Score': [0.919,0.883,0.886,0.902],\n",
    "                      '(Model Accuracy) - (Cross-Val-Score)' : [1.00-0.919,0.99-0.883, 0.89 - 0.886, 0.989 - 0.902]}\n",
    "                      \n",
    "Model = pd.DataFrame(data,index = ['Logistic Regression','PCA','Decision Tree','Random Forest'])\n",
    "Model"
   ]
  },
  {
   "cell_type": "markdown",
   "metadata": {},
   "source": [
    "The above DataFrame shows that there is least difference between model accuracy and cross_val_score of Decision Tree. Hence, Decision Tree is the best model for this dataset."
   ]
  },
  {
   "cell_type": "markdown",
   "metadata": {},
   "source": [
    "#### HyperParameter Tuning Decision TR"
   ]
  },
  {
   "cell_type": "code",
   "execution_count": 35,
   "metadata": {},
   "outputs": [],
   "source": [
    "# Instantiating grid_parameters\n",
    "grid = {\"criterion\" : ['gini','entropy'],\n",
    "       \"splitter\" : ['random','best'],\n",
    "       \"max_depth\" : [1,2,3,4,5],\n",
    "       \"min_samples_split\" : [1,2,3,4,5,6],\n",
    "       \"min_samples_leaf\" : [1,2,3,4,5,6,7]}"
   ]
  },
  {
   "cell_type": "code",
   "execution_count": 36,
   "metadata": {},
   "outputs": [],
   "source": [
    "#Instantiating Randomized SearchCV\n",
    "DT_random = RandomizedSearchCV(estimator = DT, param_distributions = grid, n_iter = 100, cv = 3, verbose=2, random_state=42)"
   ]
  },
  {
   "cell_type": "code",
   "execution_count": 37,
   "metadata": {},
   "outputs": [
    {
     "name": "stdout",
     "output_type": "stream",
     "text": [
      "Fitting 3 folds for each of 100 candidates, totalling 300 fits\n",
      "[CV] END criterion=entropy, max_depth=4, min_samples_leaf=2, min_samples_split=6, splitter=best; total time=   0.0s\n",
      "[CV] END criterion=entropy, max_depth=4, min_samples_leaf=2, min_samples_split=6, splitter=best; total time=   0.0s\n",
      "[CV] END criterion=entropy, max_depth=4, min_samples_leaf=2, min_samples_split=6, splitter=best; total time=   0.0s\n",
      "[CV] END criterion=entropy, max_depth=5, min_samples_leaf=6, min_samples_split=1, splitter=random; total time=   0.0s\n",
      "[CV] END criterion=entropy, max_depth=5, min_samples_leaf=6, min_samples_split=1, splitter=random; total time=   0.0s\n",
      "[CV] END criterion=entropy, max_depth=5, min_samples_leaf=6, min_samples_split=1, splitter=random; total time=   0.0s\n",
      "[CV] END criterion=gini, max_depth=1, min_samples_leaf=3, min_samples_split=4, splitter=random; total time=   0.0s\n",
      "[CV] END criterion=gini, max_depth=1, min_samples_leaf=3, min_samples_split=4, splitter=random; total time=   0.0s\n",
      "[CV] END criterion=gini, max_depth=1, min_samples_leaf=3, min_samples_split=4, splitter=random; total time=   0.0s\n",
      "[CV] END criterion=entropy, max_depth=3, min_samples_leaf=1, min_samples_split=6, splitter=best; total time=   0.0s\n",
      "[CV] END criterion=entropy, max_depth=3, min_samples_leaf=1, min_samples_split=6, splitter=best; total time=   0.0s\n",
      "[CV] END criterion=entropy, max_depth=3, min_samples_leaf=1, min_samples_split=6, splitter=best; total time=   0.0s\n",
      "[CV] END criterion=gini, max_depth=2, min_samples_leaf=2, min_samples_split=1, splitter=random; total time=   0.0s\n",
      "[CV] END criterion=gini, max_depth=2, min_samples_leaf=2, min_samples_split=1, splitter=random; total time=   0.0s\n",
      "[CV] END criterion=gini, max_depth=2, min_samples_leaf=2, min_samples_split=1, splitter=random; total time=   0.0s\n",
      "[CV] END criterion=gini, max_depth=3, min_samples_leaf=7, min_samples_split=3, splitter=random; total time=   0.0s\n",
      "[CV] END criterion=gini, max_depth=3, min_samples_leaf=7, min_samples_split=3, splitter=random; total time=   0.0s\n",
      "[CV] END criterion=gini, max_depth=3, min_samples_leaf=7, min_samples_split=3, splitter=random; total time=   0.0s\n",
      "[CV] END criterion=entropy, max_depth=2, min_samples_leaf=5, min_samples_split=4, splitter=random; total time=   0.0s\n",
      "[CV] END criterion=entropy, max_depth=2, min_samples_leaf=5, min_samples_split=4, splitter=random; total time=   0.0s\n",
      "[CV] END criterion=entropy, max_depth=2, min_samples_leaf=5, min_samples_split=4, splitter=random; total time=   0.0s\n",
      "[CV] END criterion=gini, max_depth=5, min_samples_leaf=2, min_samples_split=3, splitter=random; total time=   0.0s\n",
      "[CV] END criterion=gini, max_depth=5, min_samples_leaf=2, min_samples_split=3, splitter=random; total time=   0.0s\n",
      "[CV] END criterion=gini, max_depth=5, min_samples_leaf=2, min_samples_split=3, splitter=random; total time=   0.0s\n",
      "[CV] END criterion=entropy, max_depth=1, min_samples_leaf=4, min_samples_split=5, splitter=random; total time=   0.0s\n",
      "[CV] END criterion=entropy, max_depth=1, min_samples_leaf=4, min_samples_split=5, splitter=random; total time=   0.0s\n",
      "[CV] END criterion=entropy, max_depth=1, min_samples_leaf=4, min_samples_split=5, splitter=random; total time=   0.0s\n",
      "[CV] END criterion=entropy, max_depth=2, min_samples_leaf=4, min_samples_split=2, splitter=best; total time=   0.0s\n",
      "[CV] END criterion=entropy, max_depth=2, min_samples_leaf=4, min_samples_split=2, splitter=best; total time=   0.0s\n",
      "[CV] END criterion=entropy, max_depth=2, min_samples_leaf=4, min_samples_split=2, splitter=best; total time=   0.0s\n",
      "[CV] END criterion=entropy, max_depth=1, min_samples_leaf=3, min_samples_split=2, splitter=best; total time=   0.0s\n",
      "[CV] END criterion=entropy, max_depth=1, min_samples_leaf=3, min_samples_split=2, splitter=best; total time=   0.0s\n",
      "[CV] END criterion=entropy, max_depth=1, min_samples_leaf=3, min_samples_split=2, splitter=best; total time=   0.0s\n",
      "[CV] END criterion=gini, max_depth=4, min_samples_leaf=1, min_samples_split=2, splitter=random; total time=   0.0s\n",
      "[CV] END criterion=gini, max_depth=4, min_samples_leaf=1, min_samples_split=2, splitter=random; total time=   0.0s\n",
      "[CV] END criterion=gini, max_depth=4, min_samples_leaf=1, min_samples_split=2, splitter=random; total time=   0.0s\n",
      "[CV] END criterion=gini, max_depth=3, min_samples_leaf=7, min_samples_split=6, splitter=random; total time=   0.0s\n",
      "[CV] END criterion=gini, max_depth=3, min_samples_leaf=7, min_samples_split=6, splitter=random; total time=   0.0s\n",
      "[CV] END criterion=gini, max_depth=3, min_samples_leaf=7, min_samples_split=6, splitter=random; total time=   0.0s\n",
      "[CV] END criterion=gini, max_depth=1, min_samples_leaf=6, min_samples_split=3, splitter=best; total time=   0.0s\n",
      "[CV] END criterion=gini, max_depth=1, min_samples_leaf=6, min_samples_split=3, splitter=best; total time=   0.0s\n",
      "[CV] END criterion=gini, max_depth=1, min_samples_leaf=6, min_samples_split=3, splitter=best; total time=   0.0s\n",
      "[CV] END criterion=entropy, max_depth=3, min_samples_leaf=7, min_samples_split=5, splitter=random; total time=   0.0s\n",
      "[CV] END criterion=entropy, max_depth=3, min_samples_leaf=7, min_samples_split=5, splitter=random; total time=   0.0s\n",
      "[CV] END criterion=entropy, max_depth=3, min_samples_leaf=7, min_samples_split=5, splitter=random; total time=   0.0s\n",
      "[CV] END criterion=gini, max_depth=3, min_samples_leaf=4, min_samples_split=6, splitter=best; total time=   0.0s\n",
      "[CV] END criterion=gini, max_depth=3, min_samples_leaf=4, min_samples_split=6, splitter=best; total time=   0.0s\n",
      "[CV] END criterion=gini, max_depth=3, min_samples_leaf=4, min_samples_split=6, splitter=best; total time=   0.0s\n",
      "[CV] END criterion=gini, max_depth=1, min_samples_leaf=4, min_samples_split=2, splitter=best; total time=   0.0s\n",
      "[CV] END criterion=gini, max_depth=1, min_samples_leaf=4, min_samples_split=2, splitter=best; total time=   0.0s\n",
      "[CV] END criterion=gini, max_depth=1, min_samples_leaf=4, min_samples_split=2, splitter=best; total time=   0.0s\n",
      "[CV] END criterion=gini, max_depth=3, min_samples_leaf=3, min_samples_split=1, splitter=random; total time=   0.0s\n",
      "[CV] END criterion=gini, max_depth=3, min_samples_leaf=3, min_samples_split=1, splitter=random; total time=   0.0s\n",
      "[CV] END criterion=gini, max_depth=3, min_samples_leaf=3, min_samples_split=1, splitter=random; total time=   0.0s\n",
      "[CV] END criterion=gini, max_depth=2, min_samples_leaf=1, min_samples_split=2, splitter=random; total time=   0.0s\n",
      "[CV] END criterion=gini, max_depth=2, min_samples_leaf=1, min_samples_split=2, splitter=random; total time=   0.0s\n",
      "[CV] END criterion=gini, max_depth=2, min_samples_leaf=1, min_samples_split=2, splitter=random; total time=   0.0s\n",
      "[CV] END criterion=entropy, max_depth=1, min_samples_leaf=7, min_samples_split=1, splitter=best; total time=   0.0s\n",
      "[CV] END criterion=entropy, max_depth=1, min_samples_leaf=7, min_samples_split=1, splitter=best; total time=   0.0s\n",
      "[CV] END criterion=entropy, max_depth=1, min_samples_leaf=7, min_samples_split=1, splitter=best; total time=   0.0s\n",
      "[CV] END criterion=entropy, max_depth=3, min_samples_leaf=7, min_samples_split=6, splitter=random; total time=   0.0s\n",
      "[CV] END criterion=entropy, max_depth=3, min_samples_leaf=7, min_samples_split=6, splitter=random; total time=   0.0s\n",
      "[CV] END criterion=entropy, max_depth=3, min_samples_leaf=7, min_samples_split=6, splitter=random; total time=   0.0s\n",
      "[CV] END criterion=gini, max_depth=3, min_samples_leaf=3, min_samples_split=3, splitter=random; total time=   0.0s\n",
      "[CV] END criterion=gini, max_depth=3, min_samples_leaf=3, min_samples_split=3, splitter=random; total time=   0.0s\n",
      "[CV] END criterion=gini, max_depth=3, min_samples_leaf=3, min_samples_split=3, splitter=random; total time=   0.0s\n",
      "[CV] END criterion=gini, max_depth=3, min_samples_leaf=4, min_samples_split=3, splitter=best; total time=   0.0s\n",
      "[CV] END criterion=gini, max_depth=3, min_samples_leaf=4, min_samples_split=3, splitter=best; total time=   0.0s\n",
      "[CV] END criterion=gini, max_depth=3, min_samples_leaf=4, min_samples_split=3, splitter=best; total time=   0.0s\n",
      "[CV] END criterion=gini, max_depth=3, min_samples_leaf=4, min_samples_split=5, splitter=random; total time=   0.0s\n",
      "[CV] END criterion=gini, max_depth=3, min_samples_leaf=4, min_samples_split=5, splitter=random; total time=   0.0s\n",
      "[CV] END criterion=gini, max_depth=3, min_samples_leaf=4, min_samples_split=5, splitter=random; total time=   0.0s\n",
      "[CV] END criterion=entropy, max_depth=4, min_samples_leaf=6, min_samples_split=4, splitter=random; total time=   0.0s\n",
      "[CV] END criterion=entropy, max_depth=4, min_samples_leaf=6, min_samples_split=4, splitter=random; total time=   0.0s\n",
      "[CV] END criterion=entropy, max_depth=4, min_samples_leaf=6, min_samples_split=4, splitter=random; total time=   0.0s\n",
      "[CV] END criterion=gini, max_depth=4, min_samples_leaf=2, min_samples_split=6, splitter=best; total time=   0.0s\n",
      "[CV] END criterion=gini, max_depth=4, min_samples_leaf=2, min_samples_split=6, splitter=best; total time=   0.0s\n",
      "[CV] END criterion=gini, max_depth=4, min_samples_leaf=2, min_samples_split=6, splitter=best; total time=   0.0s\n",
      "[CV] END criterion=gini, max_depth=2, min_samples_leaf=4, min_samples_split=1, splitter=random; total time=   0.0s\n",
      "[CV] END criterion=gini, max_depth=2, min_samples_leaf=4, min_samples_split=1, splitter=random; total time=   0.0s\n",
      "[CV] END criterion=gini, max_depth=2, min_samples_leaf=4, min_samples_split=1, splitter=random; total time=   0.0s\n",
      "[CV] END criterion=gini, max_depth=4, min_samples_leaf=4, min_samples_split=3, splitter=random; total time=   0.0s\n",
      "[CV] END criterion=gini, max_depth=4, min_samples_leaf=4, min_samples_split=3, splitter=random; total time=   0.0s\n",
      "[CV] END criterion=gini, max_depth=4, min_samples_leaf=4, min_samples_split=3, splitter=random; total time=   0.0s\n",
      "[CV] END criterion=gini, max_depth=2, min_samples_leaf=5, min_samples_split=4, splitter=best; total time=   0.0s\n",
      "[CV] END criterion=gini, max_depth=2, min_samples_leaf=5, min_samples_split=4, splitter=best; total time=   0.0s\n",
      "[CV] END criterion=gini, max_depth=2, min_samples_leaf=5, min_samples_split=4, splitter=best; total time=   0.0s\n",
      "[CV] END criterion=gini, max_depth=4, min_samples_leaf=4, min_samples_split=2, splitter=best; total time=   0.0s\n",
      "[CV] END criterion=gini, max_depth=4, min_samples_leaf=4, min_samples_split=2, splitter=best; total time=   0.0s\n",
      "[CV] END criterion=gini, max_depth=4, min_samples_leaf=4, min_samples_split=2, splitter=best; total time=   0.0s\n",
      "[CV] END criterion=entropy, max_depth=5, min_samples_leaf=7, min_samples_split=5, splitter=random; total time=   0.0s\n",
      "[CV] END criterion=entropy, max_depth=5, min_samples_leaf=7, min_samples_split=5, splitter=random; total time=   0.0s\n",
      "[CV] END criterion=entropy, max_depth=5, min_samples_leaf=7, min_samples_split=5, splitter=random; total time=   0.0s\n",
      "[CV] END criterion=gini, max_depth=1, min_samples_leaf=6, min_samples_split=2, splitter=best; total time=   0.0s\n",
      "[CV] END criterion=gini, max_depth=1, min_samples_leaf=6, min_samples_split=2, splitter=best; total time=   0.0s\n",
      "[CV] END criterion=gini, max_depth=1, min_samples_leaf=6, min_samples_split=2, splitter=best; total time=   0.0s\n",
      "[CV] END criterion=entropy, max_depth=3, min_samples_leaf=3, min_samples_split=4, splitter=random; total time=   0.0s\n",
      "[CV] END criterion=entropy, max_depth=3, min_samples_leaf=3, min_samples_split=4, splitter=random; total time=   0.0s\n",
      "[CV] END criterion=entropy, max_depth=3, min_samples_leaf=3, min_samples_split=4, splitter=random; total time=   0.0s\n",
      "[CV] END criterion=gini, max_depth=1, min_samples_leaf=6, min_samples_split=4, splitter=random; total time=   0.0s\n",
      "[CV] END criterion=gini, max_depth=1, min_samples_leaf=6, min_samples_split=4, splitter=random; total time=   0.0s\n",
      "[CV] END criterion=gini, max_depth=1, min_samples_leaf=6, min_samples_split=4, splitter=random; total time=   0.0s\n",
      "[CV] END criterion=entropy, max_depth=2, min_samples_leaf=3, min_samples_split=3, splitter=best; total time=   0.0s\n",
      "[CV] END criterion=entropy, max_depth=2, min_samples_leaf=3, min_samples_split=3, splitter=best; total time=   0.0s\n",
      "[CV] END criterion=entropy, max_depth=2, min_samples_leaf=3, min_samples_split=3, splitter=best; total time=   0.0s\n",
      "[CV] END criterion=entropy, max_depth=2, min_samples_leaf=2, min_samples_split=2, splitter=random; total time=   0.0s\n",
      "[CV] END criterion=entropy, max_depth=2, min_samples_leaf=2, min_samples_split=2, splitter=random; total time=   0.0s\n",
      "[CV] END criterion=entropy, max_depth=2, min_samples_leaf=2, min_samples_split=2, splitter=random; total time=   0.0s\n",
      "[CV] END criterion=gini, max_depth=4, min_samples_leaf=7, min_samples_split=6, splitter=random; total time=   0.0s\n",
      "[CV] END criterion=gini, max_depth=4, min_samples_leaf=7, min_samples_split=6, splitter=random; total time=   0.0s\n",
      "[CV] END criterion=gini, max_depth=4, min_samples_leaf=7, min_samples_split=6, splitter=random; total time=   0.0s\n",
      "[CV] END criterion=gini, max_depth=4, min_samples_leaf=7, min_samples_split=3, splitter=random; total time=   0.0s\n",
      "[CV] END criterion=gini, max_depth=4, min_samples_leaf=7, min_samples_split=3, splitter=random; total time=   0.0s\n",
      "[CV] END criterion=gini, max_depth=4, min_samples_leaf=7, min_samples_split=3, splitter=random; total time=   0.0s\n",
      "[CV] END criterion=gini, max_depth=3, min_samples_leaf=6, min_samples_split=6, splitter=best; total time=   0.0s\n",
      "[CV] END criterion=gini, max_depth=3, min_samples_leaf=6, min_samples_split=6, splitter=best; total time=   0.0s\n",
      "[CV] END criterion=gini, max_depth=3, min_samples_leaf=6, min_samples_split=6, splitter=best; total time=   0.0s\n",
      "[CV] END criterion=gini, max_depth=5, min_samples_leaf=7, min_samples_split=5, splitter=best; total time=   0.0s\n",
      "[CV] END criterion=gini, max_depth=5, min_samples_leaf=7, min_samples_split=5, splitter=best; total time=   0.0s\n",
      "[CV] END criterion=gini, max_depth=5, min_samples_leaf=7, min_samples_split=5, splitter=best; total time=   0.0s\n",
      "[CV] END criterion=entropy, max_depth=3, min_samples_leaf=6, min_samples_split=2, splitter=best; total time=   0.0s\n",
      "[CV] END criterion=entropy, max_depth=3, min_samples_leaf=6, min_samples_split=2, splitter=best; total time=   0.0s\n",
      "[CV] END criterion=entropy, max_depth=3, min_samples_leaf=6, min_samples_split=2, splitter=best; total time=   0.0s\n",
      "[CV] END criterion=entropy, max_depth=3, min_samples_leaf=6, min_samples_split=2, splitter=random; total time=   0.0s\n",
      "[CV] END criterion=entropy, max_depth=3, min_samples_leaf=6, min_samples_split=2, splitter=random; total time=   0.0s\n",
      "[CV] END criterion=entropy, max_depth=3, min_samples_leaf=6, min_samples_split=2, splitter=random; total time=   0.0s\n",
      "[CV] END criterion=gini, max_depth=1, min_samples_leaf=6, min_samples_split=4, splitter=best; total time=   0.0s\n",
      "[CV] END criterion=gini, max_depth=1, min_samples_leaf=6, min_samples_split=4, splitter=best; total time=   0.0s\n",
      "[CV] END criterion=gini, max_depth=1, min_samples_leaf=6, min_samples_split=4, splitter=best; total time=   0.0s\n",
      "[CV] END criterion=gini, max_depth=5, min_samples_leaf=6, min_samples_split=5, splitter=best; total time=   0.0s\n",
      "[CV] END criterion=gini, max_depth=5, min_samples_leaf=6, min_samples_split=5, splitter=best; total time=   0.0s\n",
      "[CV] END criterion=gini, max_depth=5, min_samples_leaf=6, min_samples_split=5, splitter=best; total time=   0.0s\n",
      "[CV] END criterion=entropy, max_depth=3, min_samples_leaf=4, min_samples_split=4, splitter=random; total time=   0.0s\n",
      "[CV] END criterion=entropy, max_depth=3, min_samples_leaf=4, min_samples_split=4, splitter=random; total time=   0.0s\n",
      "[CV] END criterion=entropy, max_depth=3, min_samples_leaf=4, min_samples_split=4, splitter=random; total time=   0.0s\n",
      "[CV] END criterion=entropy, max_depth=1, min_samples_leaf=5, min_samples_split=5, splitter=best; total time=   0.0s\n",
      "[CV] END criterion=entropy, max_depth=1, min_samples_leaf=5, min_samples_split=5, splitter=best; total time=   0.0s\n",
      "[CV] END criterion=entropy, max_depth=1, min_samples_leaf=5, min_samples_split=5, splitter=best; total time=   0.0s\n",
      "[CV] END criterion=gini, max_depth=1, min_samples_leaf=2, min_samples_split=6, splitter=best; total time=   0.0s\n",
      "[CV] END criterion=gini, max_depth=1, min_samples_leaf=2, min_samples_split=6, splitter=best; total time=   0.0s\n",
      "[CV] END criterion=gini, max_depth=1, min_samples_leaf=2, min_samples_split=6, splitter=best; total time=   0.0s\n",
      "[CV] END criterion=gini, max_depth=4, min_samples_leaf=5, min_samples_split=6, splitter=best; total time=   0.0s\n",
      "[CV] END criterion=gini, max_depth=4, min_samples_leaf=5, min_samples_split=6, splitter=best; total time=   0.0s\n",
      "[CV] END criterion=gini, max_depth=4, min_samples_leaf=5, min_samples_split=6, splitter=best; total time=   0.0s\n",
      "[CV] END criterion=entropy, max_depth=3, min_samples_leaf=3, min_samples_split=5, splitter=best; total time=   0.0s\n",
      "[CV] END criterion=entropy, max_depth=3, min_samples_leaf=3, min_samples_split=5, splitter=best; total time=   0.0s\n",
      "[CV] END criterion=entropy, max_depth=3, min_samples_leaf=3, min_samples_split=5, splitter=best; total time=   0.0s\n",
      "[CV] END criterion=entropy, max_depth=2, min_samples_leaf=4, min_samples_split=3, splitter=best; total time=   0.0s\n",
      "[CV] END criterion=entropy, max_depth=2, min_samples_leaf=4, min_samples_split=3, splitter=best; total time=   0.0s\n",
      "[CV] END criterion=entropy, max_depth=2, min_samples_leaf=4, min_samples_split=3, splitter=best; total time=   0.0s\n",
      "[CV] END criterion=gini, max_depth=4, min_samples_leaf=3, min_samples_split=6, splitter=random; total time=   0.0s\n",
      "[CV] END criterion=gini, max_depth=4, min_samples_leaf=3, min_samples_split=6, splitter=random; total time=   0.0s\n",
      "[CV] END criterion=gini, max_depth=4, min_samples_leaf=3, min_samples_split=6, splitter=random; total time=   0.0s\n",
      "[CV] END criterion=entropy, max_depth=4, min_samples_leaf=5, min_samples_split=2, splitter=random; total time=   0.0s\n",
      "[CV] END criterion=entropy, max_depth=4, min_samples_leaf=5, min_samples_split=2, splitter=random; total time=   0.0s\n",
      "[CV] END criterion=entropy, max_depth=4, min_samples_leaf=5, min_samples_split=2, splitter=random; total time=   0.0s\n",
      "[CV] END criterion=entropy, max_depth=4, min_samples_leaf=3, min_samples_split=2, splitter=random; total time=   0.0s\n",
      "[CV] END criterion=entropy, max_depth=4, min_samples_leaf=3, min_samples_split=2, splitter=random; total time=   0.0s\n",
      "[CV] END criterion=entropy, max_depth=4, min_samples_leaf=3, min_samples_split=2, splitter=random; total time=   0.0s\n",
      "[CV] END criterion=entropy, max_depth=2, min_samples_leaf=5, min_samples_split=3, splitter=best; total time=   0.0s\n",
      "[CV] END criterion=entropy, max_depth=2, min_samples_leaf=5, min_samples_split=3, splitter=best; total time=   0.0s\n",
      "[CV] END criterion=entropy, max_depth=2, min_samples_leaf=5, min_samples_split=3, splitter=best; total time=   0.0s\n",
      "[CV] END criterion=entropy, max_depth=2, min_samples_leaf=1, min_samples_split=5, splitter=random; total time=   0.0s\n",
      "[CV] END criterion=entropy, max_depth=2, min_samples_leaf=1, min_samples_split=5, splitter=random; total time=   0.0s\n",
      "[CV] END criterion=entropy, max_depth=2, min_samples_leaf=1, min_samples_split=5, splitter=random; total time=   0.0s\n",
      "[CV] END criterion=entropy, max_depth=3, min_samples_leaf=6, min_samples_split=6, splitter=best; total time=   0.0s\n",
      "[CV] END criterion=entropy, max_depth=3, min_samples_leaf=6, min_samples_split=6, splitter=best; total time=   0.0s\n",
      "[CV] END criterion=entropy, max_depth=3, min_samples_leaf=6, min_samples_split=6, splitter=best; total time=   0.0s\n",
      "[CV] END criterion=entropy, max_depth=1, min_samples_leaf=1, min_samples_split=6, splitter=best; total time=   0.0s\n",
      "[CV] END criterion=entropy, max_depth=1, min_samples_leaf=1, min_samples_split=6, splitter=best; total time=   0.0s\n",
      "[CV] END criterion=entropy, max_depth=1, min_samples_leaf=1, min_samples_split=6, splitter=best; total time=   0.0s\n",
      "[CV] END criterion=gini, max_depth=3, min_samples_leaf=4, min_samples_split=4, splitter=best; total time=   0.0s\n",
      "[CV] END criterion=gini, max_depth=3, min_samples_leaf=4, min_samples_split=4, splitter=best; total time=   0.0s\n",
      "[CV] END criterion=gini, max_depth=3, min_samples_leaf=4, min_samples_split=4, splitter=best; total time=   0.0s\n",
      "[CV] END criterion=gini, max_depth=5, min_samples_leaf=3, min_samples_split=1, splitter=best; total time=   0.0s\n",
      "[CV] END criterion=gini, max_depth=5, min_samples_leaf=3, min_samples_split=1, splitter=best; total time=   0.0s\n",
      "[CV] END criterion=gini, max_depth=5, min_samples_leaf=3, min_samples_split=1, splitter=best; total time=   0.0s\n",
      "[CV] END criterion=entropy, max_depth=2, min_samples_leaf=4, min_samples_split=5, splitter=best; total time=   0.0s\n",
      "[CV] END criterion=entropy, max_depth=2, min_samples_leaf=4, min_samples_split=5, splitter=best; total time=   0.0s\n",
      "[CV] END criterion=entropy, max_depth=2, min_samples_leaf=4, min_samples_split=5, splitter=best; total time=   0.0s\n",
      "[CV] END criterion=gini, max_depth=1, min_samples_leaf=7, min_samples_split=4, splitter=random; total time=   0.0s\n",
      "[CV] END criterion=gini, max_depth=1, min_samples_leaf=7, min_samples_split=4, splitter=random; total time=   0.0s\n",
      "[CV] END criterion=gini, max_depth=1, min_samples_leaf=7, min_samples_split=4, splitter=random; total time=   0.0s\n",
      "[CV] END criterion=entropy, max_depth=5, min_samples_leaf=6, min_samples_split=6, splitter=random; total time=   0.0s\n",
      "[CV] END criterion=entropy, max_depth=5, min_samples_leaf=6, min_samples_split=6, splitter=random; total time=   0.0s\n",
      "[CV] END criterion=entropy, max_depth=5, min_samples_leaf=6, min_samples_split=6, splitter=random; total time=   0.0s\n",
      "[CV] END criterion=entropy, max_depth=5, min_samples_leaf=5, min_samples_split=2, splitter=random; total time=   0.0s\n",
      "[CV] END criterion=entropy, max_depth=5, min_samples_leaf=5, min_samples_split=2, splitter=random; total time=   0.0s\n",
      "[CV] END criterion=entropy, max_depth=5, min_samples_leaf=5, min_samples_split=2, splitter=random; total time=   0.0s\n",
      "[CV] END criterion=entropy, max_depth=3, min_samples_leaf=1, min_samples_split=1, splitter=best; total time=   0.0s\n",
      "[CV] END criterion=entropy, max_depth=3, min_samples_leaf=1, min_samples_split=1, splitter=best; total time=   0.0s\n",
      "[CV] END criterion=entropy, max_depth=3, min_samples_leaf=1, min_samples_split=1, splitter=best; total time=   0.0s\n",
      "[CV] END criterion=entropy, max_depth=5, min_samples_leaf=6, min_samples_split=6, splitter=best; total time=   0.0s\n",
      "[CV] END criterion=entropy, max_depth=5, min_samples_leaf=6, min_samples_split=6, splitter=best; total time=   0.0s\n",
      "[CV] END criterion=entropy, max_depth=5, min_samples_leaf=6, min_samples_split=6, splitter=best; total time=   0.0s\n",
      "[CV] END criterion=gini, max_depth=5, min_samples_leaf=3, min_samples_split=5, splitter=random; total time=   0.0s\n",
      "[CV] END criterion=gini, max_depth=5, min_samples_leaf=3, min_samples_split=5, splitter=random; total time=   0.0s\n",
      "[CV] END criterion=gini, max_depth=5, min_samples_leaf=3, min_samples_split=5, splitter=random; total time=   0.0s\n",
      "[CV] END criterion=gini, max_depth=2, min_samples_leaf=5, min_samples_split=3, splitter=best; total time=   0.0s\n",
      "[CV] END criterion=gini, max_depth=2, min_samples_leaf=5, min_samples_split=3, splitter=best; total time=   0.0s\n",
      "[CV] END criterion=gini, max_depth=2, min_samples_leaf=5, min_samples_split=3, splitter=best; total time=   0.0s\n",
      "[CV] END criterion=gini, max_depth=4, min_samples_leaf=6, min_samples_split=3, splitter=random; total time=   0.0s\n",
      "[CV] END criterion=gini, max_depth=4, min_samples_leaf=6, min_samples_split=3, splitter=random; total time=   0.0s\n",
      "[CV] END criterion=gini, max_depth=4, min_samples_leaf=6, min_samples_split=3, splitter=random; total time=   0.0s\n",
      "[CV] END criterion=gini, max_depth=4, min_samples_leaf=4, min_samples_split=4, splitter=random; total time=   0.0s\n",
      "[CV] END criterion=gini, max_depth=4, min_samples_leaf=4, min_samples_split=4, splitter=random; total time=   0.0s\n",
      "[CV] END criterion=gini, max_depth=4, min_samples_leaf=4, min_samples_split=4, splitter=random; total time=   0.0s\n",
      "[CV] END criterion=gini, max_depth=2, min_samples_leaf=6, min_samples_split=6, splitter=best; total time=   0.0s\n",
      "[CV] END criterion=gini, max_depth=2, min_samples_leaf=6, min_samples_split=6, splitter=best; total time=   0.0s\n",
      "[CV] END criterion=gini, max_depth=2, min_samples_leaf=6, min_samples_split=6, splitter=best; total time=   0.0s\n",
      "[CV] END criterion=entropy, max_depth=4, min_samples_leaf=7, min_samples_split=4, splitter=random; total time=   0.0s\n",
      "[CV] END criterion=entropy, max_depth=4, min_samples_leaf=7, min_samples_split=4, splitter=random; total time=   0.0s\n",
      "[CV] END criterion=entropy, max_depth=4, min_samples_leaf=7, min_samples_split=4, splitter=random; total time=   0.0s\n",
      "[CV] END criterion=entropy, max_depth=1, min_samples_leaf=4, min_samples_split=4, splitter=random; total time=   0.0s\n",
      "[CV] END criterion=entropy, max_depth=1, min_samples_leaf=4, min_samples_split=4, splitter=random; total time=   0.0s\n",
      "[CV] END criterion=entropy, max_depth=1, min_samples_leaf=4, min_samples_split=4, splitter=random; total time=   0.0s\n",
      "[CV] END criterion=gini, max_depth=4, min_samples_leaf=7, min_samples_split=2, splitter=random; total time=   0.0s\n",
      "[CV] END criterion=gini, max_depth=4, min_samples_leaf=7, min_samples_split=2, splitter=random; total time=   0.0s\n",
      "[CV] END criterion=gini, max_depth=4, min_samples_leaf=7, min_samples_split=2, splitter=random; total time=   0.0s\n",
      "[CV] END criterion=gini, max_depth=1, min_samples_leaf=5, min_samples_split=1, splitter=best; total time=   0.0s\n",
      "[CV] END criterion=gini, max_depth=1, min_samples_leaf=5, min_samples_split=1, splitter=best; total time=   0.0s\n",
      "[CV] END criterion=gini, max_depth=1, min_samples_leaf=5, min_samples_split=1, splitter=best; total time=   0.0s\n",
      "[CV] END criterion=entropy, max_depth=5, min_samples_leaf=4, min_samples_split=3, splitter=random; total time=   0.0s\n",
      "[CV] END criterion=entropy, max_depth=5, min_samples_leaf=4, min_samples_split=3, splitter=random; total time=   0.0s\n",
      "[CV] END criterion=entropy, max_depth=5, min_samples_leaf=4, min_samples_split=3, splitter=random; total time=   0.0s\n",
      "[CV] END criterion=entropy, max_depth=3, min_samples_leaf=6, min_samples_split=6, splitter=random; total time=   0.0s\n",
      "[CV] END criterion=entropy, max_depth=3, min_samples_leaf=6, min_samples_split=6, splitter=random; total time=   0.0s\n",
      "[CV] END criterion=entropy, max_depth=3, min_samples_leaf=6, min_samples_split=6, splitter=random; total time=   0.0s\n",
      "[CV] END criterion=entropy, max_depth=2, min_samples_leaf=6, min_samples_split=3, splitter=best; total time=   0.0s\n",
      "[CV] END criterion=entropy, max_depth=2, min_samples_leaf=6, min_samples_split=3, splitter=best; total time=   0.0s\n",
      "[CV] END criterion=entropy, max_depth=2, min_samples_leaf=6, min_samples_split=3, splitter=best; total time=   0.0s\n",
      "[CV] END criterion=entropy, max_depth=1, min_samples_leaf=7, min_samples_split=2, splitter=random; total time=   0.0s\n",
      "[CV] END criterion=entropy, max_depth=1, min_samples_leaf=7, min_samples_split=2, splitter=random; total time=   0.0s\n",
      "[CV] END criterion=entropy, max_depth=1, min_samples_leaf=7, min_samples_split=2, splitter=random; total time=   0.0s\n",
      "[CV] END criterion=gini, max_depth=3, min_samples_leaf=4, min_samples_split=3, splitter=random; total time=   0.0s\n",
      "[CV] END criterion=gini, max_depth=3, min_samples_leaf=4, min_samples_split=3, splitter=random; total time=   0.0s\n",
      "[CV] END criterion=gini, max_depth=3, min_samples_leaf=4, min_samples_split=3, splitter=random; total time=   0.0s\n",
      "[CV] END criterion=entropy, max_depth=5, min_samples_leaf=7, min_samples_split=4, splitter=best; total time=   0.0s\n",
      "[CV] END criterion=entropy, max_depth=5, min_samples_leaf=7, min_samples_split=4, splitter=best; total time=   0.0s\n",
      "[CV] END criterion=entropy, max_depth=5, min_samples_leaf=7, min_samples_split=4, splitter=best; total time=   0.0s\n",
      "[CV] END criterion=gini, max_depth=1, min_samples_leaf=3, min_samples_split=5, splitter=best; total time=   0.0s\n",
      "[CV] END criterion=gini, max_depth=1, min_samples_leaf=3, min_samples_split=5, splitter=best; total time=   0.0s\n",
      "[CV] END criterion=gini, max_depth=1, min_samples_leaf=3, min_samples_split=5, splitter=best; total time=   0.0s\n",
      "[CV] END criterion=gini, max_depth=1, min_samples_leaf=3, min_samples_split=4, splitter=best; total time=   0.0s\n",
      "[CV] END criterion=gini, max_depth=1, min_samples_leaf=3, min_samples_split=4, splitter=best; total time=   0.0s\n",
      "[CV] END criterion=gini, max_depth=1, min_samples_leaf=3, min_samples_split=4, splitter=best; total time=   0.0s\n",
      "[CV] END criterion=entropy, max_depth=4, min_samples_leaf=1, min_samples_split=1, splitter=best; total time=   0.0s\n",
      "[CV] END criterion=entropy, max_depth=4, min_samples_leaf=1, min_samples_split=1, splitter=best; total time=   0.0s\n",
      "[CV] END criterion=entropy, max_depth=4, min_samples_leaf=1, min_samples_split=1, splitter=best; total time=   0.0s\n",
      "[CV] END criterion=entropy, max_depth=1, min_samples_leaf=4, min_samples_split=1, splitter=best; total time=   0.0s\n",
      "[CV] END criterion=entropy, max_depth=1, min_samples_leaf=4, min_samples_split=1, splitter=best; total time=   0.0s\n",
      "[CV] END criterion=entropy, max_depth=1, min_samples_leaf=4, min_samples_split=1, splitter=best; total time=   0.0s\n",
      "[CV] END criterion=entropy, max_depth=1, min_samples_leaf=6, min_samples_split=2, splitter=random; total time=   0.0s\n",
      "[CV] END criterion=entropy, max_depth=1, min_samples_leaf=6, min_samples_split=2, splitter=random; total time=   0.0s\n",
      "[CV] END criterion=entropy, max_depth=1, min_samples_leaf=6, min_samples_split=2, splitter=random; total time=   0.0s\n",
      "[CV] END criterion=entropy, max_depth=5, min_samples_leaf=1, min_samples_split=2, splitter=best; total time=   0.0s\n",
      "[CV] END criterion=entropy, max_depth=5, min_samples_leaf=1, min_samples_split=2, splitter=best; total time=   0.0s\n",
      "[CV] END criterion=entropy, max_depth=5, min_samples_leaf=1, min_samples_split=2, splitter=best; total time=   0.0s\n",
      "[CV] END criterion=entropy, max_depth=1, min_samples_leaf=1, min_samples_split=5, splitter=best; total time=   0.0s\n",
      "[CV] END criterion=entropy, max_depth=1, min_samples_leaf=1, min_samples_split=5, splitter=best; total time=   0.0s\n",
      "[CV] END criterion=entropy, max_depth=1, min_samples_leaf=1, min_samples_split=5, splitter=best; total time=   0.0s\n",
      "[CV] END criterion=entropy, max_depth=1, min_samples_leaf=3, min_samples_split=5, splitter=best; total time=   0.0s\n",
      "[CV] END criterion=entropy, max_depth=1, min_samples_leaf=3, min_samples_split=5, splitter=best; total time=   0.0s\n",
      "[CV] END criterion=entropy, max_depth=1, min_samples_leaf=3, min_samples_split=5, splitter=best; total time=   0.0s\n",
      "[CV] END criterion=gini, max_depth=2, min_samples_leaf=3, min_samples_split=1, splitter=best; total time=   0.0s\n",
      "[CV] END criterion=gini, max_depth=2, min_samples_leaf=3, min_samples_split=1, splitter=best; total time=   0.0s\n",
      "[CV] END criterion=gini, max_depth=2, min_samples_leaf=3, min_samples_split=1, splitter=best; total time=   0.0s\n",
      "[CV] END criterion=gini, max_depth=1, min_samples_leaf=7, min_samples_split=1, splitter=random; total time=   0.0s\n",
      "[CV] END criterion=gini, max_depth=1, min_samples_leaf=7, min_samples_split=1, splitter=random; total time=   0.0s\n",
      "[CV] END criterion=gini, max_depth=1, min_samples_leaf=7, min_samples_split=1, splitter=random; total time=   0.0s\n",
      "[CV] END criterion=gini, max_depth=1, min_samples_leaf=7, min_samples_split=3, splitter=best; total time=   0.0s\n",
      "[CV] END criterion=gini, max_depth=1, min_samples_leaf=7, min_samples_split=3, splitter=best; total time=   0.0s\n",
      "[CV] END criterion=gini, max_depth=1, min_samples_leaf=7, min_samples_split=3, splitter=best; total time=   0.0s\n",
      "[CV] END criterion=entropy, max_depth=3, min_samples_leaf=3, min_samples_split=5, splitter=random; total time=   0.0s\n",
      "[CV] END criterion=entropy, max_depth=3, min_samples_leaf=3, min_samples_split=5, splitter=random; total time=   0.0s\n",
      "[CV] END criterion=entropy, max_depth=3, min_samples_leaf=3, min_samples_split=5, splitter=random; total time=   0.0s\n",
      "[CV] END criterion=entropy, max_depth=2, min_samples_leaf=3, min_samples_split=4, splitter=random; total time=   0.0s\n",
      "[CV] END criterion=entropy, max_depth=2, min_samples_leaf=3, min_samples_split=4, splitter=random; total time=   0.0s\n",
      "[CV] END criterion=entropy, max_depth=2, min_samples_leaf=3, min_samples_split=4, splitter=random; total time=   0.0s\n",
      "[CV] END criterion=entropy, max_depth=3, min_samples_leaf=7, min_samples_split=4, splitter=random; total time=   0.0s\n",
      "[CV] END criterion=entropy, max_depth=3, min_samples_leaf=7, min_samples_split=4, splitter=random; total time=   0.0s\n",
      "[CV] END criterion=entropy, max_depth=3, min_samples_leaf=7, min_samples_split=4, splitter=random; total time=   0.0s\n",
      "[CV] END criterion=gini, max_depth=3, min_samples_leaf=3, min_samples_split=4, splitter=random; total time=   0.0s\n",
      "[CV] END criterion=gini, max_depth=3, min_samples_leaf=3, min_samples_split=4, splitter=random; total time=   0.0s\n",
      "[CV] END criterion=gini, max_depth=3, min_samples_leaf=3, min_samples_split=4, splitter=random; total time=   0.0s\n",
      "[CV] END criterion=entropy, max_depth=5, min_samples_leaf=3, min_samples_split=3, splitter=random; total time=   0.0s\n",
      "[CV] END criterion=entropy, max_depth=5, min_samples_leaf=3, min_samples_split=3, splitter=random; total time=   0.0s\n",
      "[CV] END criterion=entropy, max_depth=5, min_samples_leaf=3, min_samples_split=3, splitter=random; total time=   0.0s\n",
      "[CV] END criterion=entropy, max_depth=4, min_samples_leaf=7, min_samples_split=3, splitter=random; total time=   0.0s\n",
      "[CV] END criterion=entropy, max_depth=4, min_samples_leaf=7, min_samples_split=3, splitter=random; total time=   0.0s\n",
      "[CV] END criterion=entropy, max_depth=4, min_samples_leaf=7, min_samples_split=3, splitter=random; total time=   0.0s\n",
      "[CV] END criterion=gini, max_depth=4, min_samples_leaf=3, min_samples_split=3, splitter=best; total time=   0.0s\n",
      "[CV] END criterion=gini, max_depth=4, min_samples_leaf=3, min_samples_split=3, splitter=best; total time=   0.0s\n",
      "[CV] END criterion=gini, max_depth=4, min_samples_leaf=3, min_samples_split=3, splitter=best; total time=   0.0s\n",
      "[CV] END criterion=entropy, max_depth=5, min_samples_leaf=4, min_samples_split=1, splitter=random; total time=   0.0s\n",
      "[CV] END criterion=entropy, max_depth=5, min_samples_leaf=4, min_samples_split=1, splitter=random; total time=   0.0s\n",
      "[CV] END criterion=entropy, max_depth=5, min_samples_leaf=4, min_samples_split=1, splitter=random; total time=   0.0s\n",
      "[CV] END criterion=entropy, max_depth=1, min_samples_leaf=2, min_samples_split=4, splitter=best; total time=   0.0s\n",
      "[CV] END criterion=entropy, max_depth=1, min_samples_leaf=2, min_samples_split=4, splitter=best; total time=   0.0s\n",
      "[CV] END criterion=entropy, max_depth=1, min_samples_leaf=2, min_samples_split=4, splitter=best; total time=   0.0s\n"
     ]
    },
    {
     "data": {
      "text/plain": [
       "RandomizedSearchCV(cv=3, estimator=DecisionTreeClassifier(max_depth=1),\n",
       "                   n_iter=100,\n",
       "                   param_distributions={'criterion': ['gini', 'entropy'],\n",
       "                                        'max_depth': [1, 2, 3, 4, 5],\n",
       "                                        'min_samples_leaf': [1, 2, 3, 4, 5, 6,\n",
       "                                                             7],\n",
       "                                        'min_samples_split': [1, 2, 3, 4, 5, 6],\n",
       "                                        'splitter': ['random', 'best']},\n",
       "                   random_state=42, verbose=2)"
      ]
     },
     "execution_count": 37,
     "metadata": {},
     "output_type": "execute_result"
    }
   ],
   "source": [
    "#training our model with tuned hyperparameters\n",
    "DT_random.fit(x_train,y_train)"
   ]
  },
  {
   "cell_type": "code",
   "execution_count": 38,
   "metadata": {},
   "outputs": [
    {
     "data": {
      "text/plain": [
       "{'splitter': 'best',\n",
       " 'min_samples_split': 2,\n",
       " 'min_samples_leaf': 1,\n",
       " 'max_depth': 5,\n",
       " 'criterion': 'entropy'}"
      ]
     },
     "execution_count": 38,
     "metadata": {},
     "output_type": "execute_result"
    }
   ],
   "source": [
    "#To check the best parameters to increase model Accuracy\n",
    "DT_random.best_params_"
   ]
  },
  {
   "cell_type": "code",
   "execution_count": 39,
   "metadata": {},
   "outputs": [],
   "source": [
    "#Instantiating Model with new tuned parameters and training the dataset\n",
    "DecisionTree = DecisionTreeClassifier(splitter ='best', min_samples_split = 4, min_samples_leaf = 7, max_depth = 5, criterion= 'entropy')\n",
    "DecisionTree.fit(x_train,y_train)\n",
    "y_pred_new = DecisionTree.predict(x_test)"
   ]
  },
  {
   "cell_type": "code",
   "execution_count": 40,
   "metadata": {},
   "outputs": [
    {
     "name": "stdout",
     "output_type": "stream",
     "text": [
      "Accuracy Score for Decision Tree is : 98.89 % \n",
      "\n",
      "Confusion Matrix of Decision Tree : \n",
      " [[1289    9]\n",
      " [  18 1122]] \n",
      "\n",
      "Classification Random Decision Tree : \n",
      "               precision    recall  f1-score   support\n",
      "\n",
      "           0       0.99      0.99      0.99      1298\n",
      "           1       0.99      0.98      0.99      1140\n",
      "\n",
      "    accuracy                           0.99      2438\n",
      "   macro avg       0.99      0.99      0.99      2438\n",
      "weighted avg       0.99      0.99      0.99      2438\n",
      "\n"
     ]
    }
   ],
   "source": [
    "y_pred=DecisionTree.predict(x_test)\n",
    "print('Accuracy Score for Decision Tree is :',round(accuracy_score(y_test,y_pred),4)*100,'% \\n')\n",
    "print('Confusion Matrix of Decision Tree : \\n',confusion_matrix(y_test,y_pred), '\\n')\n",
    "print('Classification Random Decision Tree : \\n',classification_report(y_test,y_pred))\n",
    "\n"
   ]
  },
  {
   "cell_type": "code",
   "execution_count": 41,
   "metadata": {},
   "outputs": [
    {
     "data": {
      "text/plain": [
       "<AxesSubplot:title={'center':'Normalized Confusion Matrix'}, xlabel='Predicted label', ylabel='True label'>"
      ]
     },
     "execution_count": 41,
     "metadata": {},
     "output_type": "execute_result"
    },
    {
     "data": {
      "image/png": "[encoded data removed]",
      "text/plain": [
       "<Figure size 432x288 with 2 Axes>"
      ]
     },
     "metadata": {},
     "output_type": "display_data"
    }
   ],
   "source": [
    "#Plotting Confusion Matrix of Final Decision Tree model\n",
    "skplt.metrics.plot_confusion_matrix(y_test, y_pred, normalize=True)"
   ]
  },
  {
   "cell_type": "code",
   "execution_count": 43,
   "metadata": {},
   "outputs": [
    {
     "name": "stdout",
     "output_type": "stream",
     "text": [
      "Confusion matrix, without normalization\n",
      "[[1295    3]\n",
      " [ 257  883]]\n",
      "Normalized confusion matrix\n",
      "[[0.99768875 0.00231125]\n",
      " [0.2254386  0.7745614 ]]\n"
     ]
    },
    {
     "data": {
      "image/png": "[encoded data removed]",
      "text/plain": [
       "<Figure size 432x288 with 2 Axes>"
      ]
     },
     "metadata": {},
     "output_type": "display_data"
    },
    {
     "data": {
      "image/png": "[encoded data removed]",
      "text/plain": [
       "<Figure size 432x288 with 2 Axes>"
      ]
     },
     "metadata": {},
     "output_type": "display_data"
    }
   ],
   "source": [
    "# Plotting both non-normalized and normalized confusion matrix\n",
    "from sklearn.metrics import plot_confusion_matrix\n",
    "\n",
    "titles_options = [(\"Confusion matrix, without normalization\", None),\n",
    "                  (\"Normalized confusion matrix\", 'true')]\n",
    "for title, normalize in titles_options:\n",
    "    disp = plot_confusion_matrix(DT, x_test, y_test,\n",
    "                                 cmap=plt.cm.Blues,\n",
    "                                 normalize=normalize)\n",
    "    disp.ax_.set_title(title)\n",
    "\n",
    "    print(title)\n",
    "    print(disp.confusion_matrix)\n",
    "\n",
    "plt.show()"
   ]
  },
  {
   "cell_type": "markdown",
   "metadata": {},
   "source": [
    "#### Saving the Final Model"
   ]
  },
  {
   "cell_type": "code",
   "execution_count": 44,
   "metadata": {},
   "outputs": [
    {
     "data": {
      "text/plain": [
       "['MushroomsAnalysis.pkl']"
      ]
     },
     "execution_count": 44,
     "metadata": {},
     "output_type": "execute_result"
    }
   ],
   "source": [
    "import joblib\n",
    "joblib.dump(DecisionTree,\"MushroomsAnalysis.pkl\")"
   ]
  },
  {
   "cell_type": "markdown",
   "metadata": {},
   "source": [
    "#### Loading Saved Model"
   ]
  },
  {
   "cell_type": "code",
   "execution_count": 45,
   "metadata": {},
   "outputs": [],
   "source": [
    "model = joblib.load(\"MushroomsAnalysis.pkl\")"
   ]
  },
  {
   "cell_type": "code",
   "execution_count": 46,
   "metadata": {},
   "outputs": [],
   "source": [
    "#predicting test data using loaded model and saving the results in a dataframe\n",
    "prediction = model.predict(x_test)\n",
    "prediction = pd.DataFrame(prediction)\n"
   ]
  },
  {
   "cell_type": "code",
   "execution_count": 47,
   "metadata": {},
   "outputs": [],
   "source": [
    "#Converting the saved file into .csv format\n",
    "prediction.to_csv('Results.csv',index = False)"
   ]
  }
 ],
 "metadata": {
  "kernelspec": {
   "display_name": "Python 3",
   "language": "python",
   "name": "python3"
  },
  "language_info": {
   "codemirror_mode": {
    "name": "ipython",
    "version": 3
   },
   "file_extension": ".py",
   "mimetype": "text/x-python",
   "name": "python",
   "nbconvert_exporter": "python",
   "pygments_lexer": "ipython3",
   "version": "3.8.5"
  }
 },
 "nbformat": 4,
 "nbformat_minor": 4
}
